{
  "nbformat": 4,
  "nbformat_minor": 0,
  "metadata": {
    "colab": {
      "provenance": [],
      "authorship_tag": "ABX9TyNUzNP6Py2eFUowSwnad9ZW",
      "include_colab_link": true
    },
    "kernelspec": {
      "name": "python3",
      "display_name": "Python 3"
    },
    "language_info": {
      "name": "python"
    }
  },
  "cells": [
    {
      "cell_type": "markdown",
      "metadata": {
        "id": "view-in-github",
        "colab_type": "text"
      },
      "source": [
        "<a href=\"https://colab.research.google.com/github/Ashwini0187/AshwiniChoudhary/blob/main/statistic_and_numpy.ipynb\" target=\"_parent\"><img src=\"https://colab.research.google.com/assets/colab-badge.svg\" alt=\"Open In Colab\"/></a>"
      ]
    },
    {
      "cell_type": "code",
      "execution_count": 1,
      "metadata": {
        "colab": {
          "base_uri": "https://localhost:8080/"
        },
        "id": "__QSi4Gcy5Km",
        "outputId": "3d3a4721-7081-4f9d-a692-69bd1ac5fc0b"
      },
      "outputs": [
        {
          "output_type": "stream",
          "name": "stdout",
          "text": [
            "Arithmetic Mean  42.214285714285715\n",
            "Geometric Mean  33.123575974392544\n",
            "Harmonic Mean  26.391219072176252\n",
            "Median   28.5\n",
            "Mode   15\n"
          ]
        }
      ],
      "source": [
        "import statistics as st\n",
        "data = [45,87,69,15,21,32,15,10,25,26,27,89,30,100]\n",
        "\n",
        "print(\"Arithmetic Mean \" , st.mean(data))\n",
        "\n",
        "\n",
        "print(\"Geometric Mean \" , st.geometric_mean(data))\n",
        "\n",
        "\n",
        "print(\"Harmonic Mean \" , st.harmonic_mean(data))\n",
        "\n",
        "print(\"Median  \" , st.median(data))\n",
        "\n",
        "print(\"Mode  \" , st.mode(data))\n",
        "\n"
      ]
    },
    {
      "cell_type": "code",
      "source": [
        "import statistics as st\n",
        "# Measure of Dispersion:\n",
        "      # How much data is dispersed or spread out\n",
        "\n",
        "#DataSet\n",
        "data = [1,2,3,4,5,6,7,8,9,10 , 12 , 15 , 16 , 19 , 87 , 27]\n",
        "\n",
        "\n",
        "\n",
        "#Mean :\n",
        "Mean = st.mean(data)\n",
        "print(\"Mean :\" ,Mean)\n",
        "\n",
        "\n",
        "\n",
        "#Median\n",
        "\n",
        "Median = st.median(data)\n",
        "print(\"Median :\" ,Median)\n",
        "\n",
        "\n",
        "\n",
        "# Range = Max-Min\n",
        "Range = (max(data)-min(data))\n",
        "print(\"Range of the given list is :\" ,Range )\n",
        "\n",
        "#Standard Variation:\n",
        "    # It is measure of how much our data values is deviating from mean value\n",
        "sd=st.stdev(data)\n",
        "print(\"standard deviation\",sd)\n",
        "\n",
        "\n",
        "#Variance :\n",
        "#Square of Standard Deviation\n",
        "Variance = st.variance(data)\n",
        "print(\"variance\", Variance)\n",
        "\n",
        "#InterQuartile Range :\n",
        "      # IQR : Q3-Q1\n",
        "q = st.quantiles(data)\n",
        "# IQR1 = q[3] - q[1] # this is not working\n",
        "\n",
        "\n",
        "\n",
        "IQR = q[2] - q[0]\n",
        "\n",
        "# print(\"InterQuartile Range: \" , IQR1)\n",
        "print(\"InterQuartile Range: \" , IQR2)"
      ],
      "metadata": {
        "colab": {
          "base_uri": "https://localhost:8080/"
        },
        "id": "paCU_b5iO-BP",
        "outputId": "bbf9f035-8f2c-41b8-b5d6-64e4d3c9cb59"
      },
      "execution_count": 2,
      "outputs": [
        {
          "output_type": "stream",
          "name": "stdout",
          "text": [
            "Mean : 14.4375\n",
            "Median : 8.5\n",
            "Range of the given list is : 86\n",
            "standard deviation 20.54902674094323\n",
            "variance 422.2625\n",
            "InterQuartile Range:  11.5\n"
          ]
        }
      ]
    },
    {
      "cell_type": "code",
      "source": [
        "#program for z test\n",
        "\n",
        "import statistics as st\n",
        "from statsmodels.stats import weightstats as stests\n",
        "from numpy import random\n",
        "\n",
        "ages = random.randint(10, 50, size=(30))\n",
        "print(\"data\", ages)\n",
        "ages_mean = st.mean(ages)\n",
        "print(\"mean of data\",ages_mean)\n",
        "std_dev = st.stdev(ages)\n",
        "print(\"Standard Deviation :\" , std_dev)\n",
        "ztest, pval = stests.ztest(ages, value=30)\n",
        "print(\"Ztest Score :\" ,ztest)\n",
        "print(\"P value :\" ,pval)\n",
        "if(pval<0.05):\n",
        " print(\"Reject Null Hypothesis\")\n",
        "else:\n",
        " print(\"Accept the Null hypothesis\")"
      ],
      "metadata": {
        "colab": {
          "base_uri": "https://localhost:8080/"
        },
        "id": "DA_L9w7lJntZ",
        "outputId": "66115d89-34d9-4a5e-da95-3cae4bea6350"
      },
      "execution_count": 4,
      "outputs": [
        {
          "output_type": "stream",
          "name": "stdout",
          "text": [
            "data [18 19 38 18 24 41 35 13 32 35 42 28 39 32 43 20 41 30 41 14 26 13 20 17\n",
            " 40 39 46 10 19 35]\n",
            "mean of data 28\n",
            "Standard Deviation : 10.954451150103322\n",
            "Ztest Score : -0.5321216386750659\n",
            "P value : 0.594641751343211\n",
            "Accept the Null hypothesis\n"
          ]
        }
      ]
    },
    {
      "cell_type": "code",
      "source": [
        "!pip install numpy"
      ],
      "metadata": {
        "colab": {
          "base_uri": "https://localhost:8080/"
        },
        "id": "a5TayeOl7AdM",
        "outputId": "94861ce5-82bb-408a-9454-b3d962762a26"
      },
      "execution_count": 1,
      "outputs": [
        {
          "output_type": "stream",
          "name": "stdout",
          "text": [
            "Requirement already satisfied: numpy in /usr/local/lib/python3.10/dist-packages (1.25.2)\n"
          ]
        }
      ]
    },
    {
      "cell_type": "code",
      "source": [
        "import numpy as np"
      ],
      "metadata": {
        "id": "piprXSIKIsho"
      },
      "execution_count": 3,
      "outputs": []
    },
    {
      "cell_type": "code",
      "source": [
        "#1-D Array\n",
        "a= np.array([1,2,3,4,5])\n",
        "print(a)"
      ],
      "metadata": {
        "colab": {
          "base_uri": "https://localhost:8080/"
        },
        "id": "QP0o4sIzI816",
        "outputId": "596682b0-3f30-4864-84e9-f8f88ecb5134"
      },
      "execution_count": 4,
      "outputs": [
        {
          "output_type": "stream",
          "name": "stdout",
          "text": [
            "[1 2 3 4 5]\n"
          ]
        }
      ]
    },
    {
      "cell_type": "code",
      "source": [
        "#2-D Arrays\n",
        "b = np.array([[1,2,3,4,5],[6,7,8,9,10]])\n",
        "print(b)\n",
        "b[1][2]"
      ],
      "metadata": {
        "colab": {
          "base_uri": "https://localhost:8080/"
        },
        "id": "tio00ulNJeBs",
        "outputId": "6cae8012-35f4-45fc-fe76-6d1250e9338a"
      },
      "execution_count": 12,
      "outputs": [
        {
          "output_type": "stream",
          "name": "stdout",
          "text": [
            "[[ 1  2  3  4  5]\n",
            " [ 6  7  8  9 10]]\n"
          ]
        },
        {
          "output_type": "execute_result",
          "data": {
            "text/plain": [
              "8"
            ]
          },
          "metadata": {},
          "execution_count": 12
        }
      ]
    },
    {
      "cell_type": "code",
      "source": [
        "c=np.zeros(10)\n",
        "print(c)\n",
        "print(type(c))\n",
        "\n",
        "c.dtype\n",
        "d = np.ones(10)\n",
        "d\n",
        "#print(d)"
      ],
      "metadata": {
        "colab": {
          "base_uri": "https://localhost:8080/"
        },
        "id": "3LLh3aQ8MgqS",
        "outputId": "60f21c06-5fbb-4b97-cda2-e88781dff797"
      },
      "execution_count": 64,
      "outputs": [
        {
          "output_type": "stream",
          "name": "stdout",
          "text": [
            "[0. 0. 0. 0. 0. 0. 0. 0. 0. 0.]\n",
            "<class 'numpy.ndarray'>\n"
          ]
        },
        {
          "output_type": "execute_result",
          "data": {
            "text/plain": [
              "array([1., 1., 1., 1., 1., 1., 1., 1., 1., 1.])"
            ]
          },
          "metadata": {},
          "execution_count": 64
        }
      ]
    },
    {
      "cell_type": "code",
      "source": [
        "np.empty(10)\n",
        "#g = np.empty(2)\n",
        "#print(g)"
      ],
      "metadata": {
        "colab": {
          "base_uri": "https://localhost:8080/"
        },
        "id": "7WqeQkhQPVcQ",
        "outputId": "519a1fcd-e415-46dd-f7c9-0c117abb44ee"
      },
      "execution_count": 25,
      "outputs": [
        {
          "output_type": "execute_result",
          "data": {
            "text/plain": [
              "array([1., 1., 1., 1., 1., 1., 1., 1., 1., 1.])"
            ]
          },
          "metadata": {},
          "execution_count": 25
        }
      ]
    },
    {
      "cell_type": "code",
      "source": [
        "np.arange(2,9)"
      ],
      "metadata": {
        "colab": {
          "base_uri": "https://localhost:8080/"
        },
        "id": "4-vD4pk4Q91d",
        "outputId": "dd5b81c6-62e3-4017-e71b-8d1471204b6a"
      },
      "execution_count": 27,
      "outputs": [
        {
          "output_type": "execute_result",
          "data": {
            "text/plain": [
              "array([2, 3, 4, 5, 6, 7, 8])"
            ]
          },
          "metadata": {},
          "execution_count": 27
        }
      ]
    },
    {
      "cell_type": "code",
      "source": [
        "np.arange(1,11,2)"
      ],
      "metadata": {
        "colab": {
          "base_uri": "https://localhost:8080/"
        },
        "id": "mDk2P1bEQNiz",
        "outputId": "b3249605-07a6-4958-d70c-6a5918f05097"
      },
      "execution_count": 28,
      "outputs": [
        {
          "output_type": "execute_result",
          "data": {
            "text/plain": [
              "array([1, 3, 5, 7, 9])"
            ]
          },
          "metadata": {},
          "execution_count": 28
        }
      ]
    },
    {
      "cell_type": "code",
      "source": [
        "x=np.ones(5,dtype=np.int64)\n",
        "x\n",
        "x.dtype\n",
        "#print(dtype(x))"
      ],
      "metadata": {
        "colab": {
          "base_uri": "https://localhost:8080/",
          "height": 176
        },
        "id": "OiMGdI4ASGnl",
        "outputId": "770f27aa-5d3a-4332-9cb5-6097f4d3e89b"
      },
      "execution_count": 66,
      "outputs": [
        {
          "output_type": "error",
          "ename": "NameError",
          "evalue": "name 'dtype' is not defined",
          "traceback": [
            "\u001b[0;31m---------------------------------------------------------------------------\u001b[0m",
            "\u001b[0;31mNameError\u001b[0m                                 Traceback (most recent call last)",
            "\u001b[0;32m<ipython-input-66-410ca3c5ba3d>\u001b[0m in \u001b[0;36m<cell line: 4>\u001b[0;34m()\u001b[0m\n\u001b[1;32m      2\u001b[0m \u001b[0mx\u001b[0m\u001b[0;34m\u001b[0m\u001b[0;34m\u001b[0m\u001b[0m\n\u001b[1;32m      3\u001b[0m \u001b[0mx\u001b[0m\u001b[0;34m.\u001b[0m\u001b[0mdtype\u001b[0m\u001b[0;34m\u001b[0m\u001b[0;34m\u001b[0m\u001b[0m\n\u001b[0;32m----> 4\u001b[0;31m \u001b[0mprint\u001b[0m\u001b[0;34m(\u001b[0m\u001b[0mdtype\u001b[0m\u001b[0;34m(\u001b[0m\u001b[0mx\u001b[0m\u001b[0;34m)\u001b[0m\u001b[0;34m)\u001b[0m\u001b[0;34m\u001b[0m\u001b[0;34m\u001b[0m\u001b[0m\n\u001b[0m",
            "\u001b[0;31mNameError\u001b[0m: name 'dtype' is not defined"
          ]
        }
      ]
    },
    {
      "cell_type": "code",
      "source": [
        "y =  np.zeros(10  , dtype = np.int64)\n",
        "y"
      ],
      "metadata": {
        "colab": {
          "base_uri": "https://localhost:8080/"
        },
        "id": "dSKPsfNpZIbW",
        "outputId": "8583fd29-22f6-4eb7-8076-0ba3d28d6e05"
      },
      "execution_count": 35,
      "outputs": [
        {
          "output_type": "execute_result",
          "data": {
            "text/plain": [
              "array([0, 0, 0, 0, 0, 0, 0, 0, 0, 0])"
            ]
          },
          "metadata": {},
          "execution_count": 35
        }
      ]
    },
    {
      "cell_type": "code",
      "source": [
        "arr = np.array([2,1,5,9,8,7,89,91,25,200])\n",
        "print(arr)\n",
        "np.sort(arr)"
      ],
      "metadata": {
        "colab": {
          "base_uri": "https://localhost:8080/"
        },
        "id": "sLwcDd9sZlF9",
        "outputId": "e8d07e17-5ef3-4b64-dc4e-8f99f5b82192"
      },
      "execution_count": 37,
      "outputs": [
        {
          "output_type": "stream",
          "name": "stdout",
          "text": [
            "[  2   1   5   9   8   7  89  91  25 200]\n"
          ]
        },
        {
          "output_type": "execute_result",
          "data": {
            "text/plain": [
              "array([  1,   2,   5,   7,   8,   9,  25,  89,  91, 200])"
            ]
          },
          "metadata": {},
          "execution_count": 37
        }
      ]
    },
    {
      "cell_type": "code",
      "source": [
        "c = np.sort(arr)\n",
        "c[::-1]"
      ],
      "metadata": {
        "colab": {
          "base_uri": "https://localhost:8080/"
        },
        "id": "fwdm-kC_atdN",
        "outputId": "9ff77baa-d081-4ca9-f42e-84780020c17c"
      },
      "execution_count": 38,
      "outputs": [
        {
          "output_type": "execute_result",
          "data": {
            "text/plain": [
              "array([200,  91,  89,  25,   9,   8,   7,   5,   2,   1])"
            ]
          },
          "metadata": {},
          "execution_count": 38
        }
      ]
    },
    {
      "cell_type": "code",
      "source": [
        "l = [54,87,98,95,65]\n",
        "l.sort(reverse = True)\n",
        "print(l)"
      ],
      "metadata": {
        "colab": {
          "base_uri": "https://localhost:8080/"
        },
        "id": "HfHKTi8Fccrs",
        "outputId": "42c5b7a7-3bec-4671-d14c-1045386938bc"
      },
      "execution_count": 39,
      "outputs": [
        {
          "output_type": "stream",
          "name": "stdout",
          "text": [
            "[98, 95, 87, 65, 54]\n"
          ]
        }
      ]
    },
    {
      "cell_type": "code",
      "source": [
        "a=np.array([1,2,3,4,5])\n",
        "b=np.array([6,8,9,7,10,11])\n",
        "\n",
        "np.concatenate((a, b),axis = 0)"
      ],
      "metadata": {
        "colab": {
          "base_uri": "https://localhost:8080/"
        },
        "id": "MphF-sUudNgJ",
        "outputId": "d13bd159-8275-4ace-d402-6d58a2349895"
      },
      "execution_count": 43,
      "outputs": [
        {
          "output_type": "execute_result",
          "data": {
            "text/plain": [
              "array([ 1,  2,  3,  4,  5,  6,  8,  9,  7, 10, 11])"
            ]
          },
          "metadata": {},
          "execution_count": 43
        }
      ]
    },
    {
      "cell_type": "code",
      "source": [
        "x = np.array([[1,2], [3,4]])\n",
        "y = np.array([[5,6]])\n",
        "\n",
        "np.concatenate((x,y))"
      ],
      "metadata": {
        "colab": {
          "base_uri": "https://localhost:8080/"
        },
        "id": "RdKcG16igUws",
        "outputId": "70a457bf-8df0-42a9-d1ae-09d53bca958b"
      },
      "execution_count": 46,
      "outputs": [
        {
          "output_type": "execute_result",
          "data": {
            "text/plain": [
              "array([[1, 2],\n",
              "       [3, 4],\n",
              "       [5, 6]])"
            ]
          },
          "metadata": {},
          "execution_count": 46
        }
      ]
    },
    {
      "cell_type": "code",
      "source": [
        "g = np.array([\n",
        "              [[1,2,3,4],\n",
        "              [5,6,7,8]],\n",
        "\n",
        "              [[1,2,3,4],\n",
        "              [5,6,7,8]],\n",
        "\n",
        "              [[1,2,3,4],\n",
        "              [5,6,7,8]],\n",
        "\n",
        "              ])\n",
        "print(g)"
      ],
      "metadata": {
        "colab": {
          "base_uri": "https://localhost:8080/"
        },
        "id": "lD8PJMpnhKFx",
        "outputId": "95185344-1a15-432d-d7f6-e3cde5b02da6"
      },
      "execution_count": 52,
      "outputs": [
        {
          "output_type": "stream",
          "name": "stdout",
          "text": [
            "[[[1 2 3 4]\n",
            "  [5 6 7 8]]\n",
            "\n",
            " [[1 2 3 4]\n",
            "  [5 6 7 8]]\n",
            "\n",
            " [[1 2 3 4]\n",
            "  [5 6 7 8]]]\n"
          ]
        }
      ]
    },
    {
      "cell_type": "code",
      "source": [
        "g.ndim"
      ],
      "metadata": {
        "colab": {
          "base_uri": "https://localhost:8080/"
        },
        "id": "5nhvNNs4i4nb",
        "outputId": "7b2dcfd0-2497-4f28-9dea-3e3182540ecc"
      },
      "execution_count": 51,
      "outputs": [
        {
          "output_type": "execute_result",
          "data": {
            "text/plain": [
              "3"
            ]
          },
          "metadata": {},
          "execution_count": 51
        }
      ]
    },
    {
      "cell_type": "code",
      "source": [
        "g.size"
      ],
      "metadata": {
        "colab": {
          "base_uri": "https://localhost:8080/"
        },
        "id": "WvwS65B4jjIv",
        "outputId": "4f70d5fd-a833-4dab-c684-96d5012ebfe8"
      },
      "execution_count": 53,
      "outputs": [
        {
          "output_type": "execute_result",
          "data": {
            "text/plain": [
              "24"
            ]
          },
          "metadata": {},
          "execution_count": 53
        }
      ]
    },
    {
      "cell_type": "code",
      "source": [
        "g.shape"
      ],
      "metadata": {
        "colab": {
          "base_uri": "https://localhost:8080/"
        },
        "id": "dOvT0psfjs0H",
        "outputId": "0cc77950-811e-4d29-ed66-ce4d954d2c76"
      },
      "execution_count": 54,
      "outputs": [
        {
          "output_type": "execute_result",
          "data": {
            "text/plain": [
              "(3, 2, 4)"
            ]
          },
          "metadata": {},
          "execution_count": 54
        }
      ]
    },
    {
      "cell_type": "code",
      "source": [
        "a = np.arange(6)\n",
        "print(a)"
      ],
      "metadata": {
        "colab": {
          "base_uri": "https://localhost:8080/"
        },
        "id": "1YCBalYJlNRy",
        "outputId": "8312304b-b530-4755-eacf-367c83e2cd36"
      },
      "execution_count": 55,
      "outputs": [
        {
          "output_type": "stream",
          "name": "stdout",
          "text": [
            "[0 1 2 3 4 5]\n"
          ]
        }
      ]
    },
    {
      "cell_type": "code",
      "source": [
        "reshap = a.reshape(3,2)\n",
        "print(reshap)"
      ],
      "metadata": {
        "colab": {
          "base_uri": "https://localhost:8080/"
        },
        "id": "9BBrI884lgQO",
        "outputId": "7c5484dc-cd3f-41aa-df74-2152cb10ac4a"
      },
      "execution_count": 58,
      "outputs": [
        {
          "output_type": "stream",
          "name": "stdout",
          "text": [
            "[[0 1]\n",
            " [2 3]\n",
            " [4 5]]\n"
          ]
        }
      ]
    },
    {
      "cell_type": "code",
      "source": [
        "a.reshape(-1,1)"
      ],
      "metadata": {
        "colab": {
          "base_uri": "https://localhost:8080/"
        },
        "id": "HV-7xTykmJmG",
        "outputId": "46d9c20e-70ad-4cec-9d54-dd255163e934"
      },
      "execution_count": 61,
      "outputs": [
        {
          "output_type": "execute_result",
          "data": {
            "text/plain": [
              "array([[0],\n",
              "       [1],\n",
              "       [2],\n",
              "       [3],\n",
              "       [4],\n",
              "       [5]])"
            ]
          },
          "metadata": {},
          "execution_count": 61
        }
      ]
    },
    {
      "cell_type": "code",
      "source": [
        "g.reshape(-1,1)"
      ],
      "metadata": {
        "colab": {
          "base_uri": "https://localhost:8080/"
        },
        "id": "VzjoSvkGmvtz",
        "outputId": "393d9df2-9cb6-4e24-b532-305d6b1309ae"
      },
      "execution_count": 63,
      "outputs": [
        {
          "output_type": "execute_result",
          "data": {
            "text/plain": [
              "array([[1],\n",
              "       [2],\n",
              "       [3],\n",
              "       [4],\n",
              "       [5],\n",
              "       [6],\n",
              "       [7],\n",
              "       [8],\n",
              "       [1],\n",
              "       [2],\n",
              "       [3],\n",
              "       [4],\n",
              "       [5],\n",
              "       [6],\n",
              "       [7],\n",
              "       [8],\n",
              "       [1],\n",
              "       [2],\n",
              "       [3],\n",
              "       [4],\n",
              "       [5],\n",
              "       [6],\n",
              "       [7],\n",
              "       [8]])"
            ]
          },
          "metadata": {},
          "execution_count": 63
        }
      ]
    }
  ]
}