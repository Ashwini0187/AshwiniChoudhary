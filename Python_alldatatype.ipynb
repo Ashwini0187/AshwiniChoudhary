{
  "nbformat": 4,
  "nbformat_minor": 0,
  "metadata": {
    "colab": {
      "provenance": [],
      "toc_visible": true,
      "authorship_tag": "ABX9TyOoIWeuRQAG9zM9bjfXN/8C",
      "include_colab_link": true
    },
    "kernelspec": {
      "name": "python3",
      "display_name": "Python 3"
    },
    "language_info": {
      "name": "python"
    }
  },
  "cells": [
    {
      "cell_type": "markdown",
      "metadata": {
        "id": "view-in-github",
        "colab_type": "text"
      },
      "source": [
        "<a href=\"https://colab.research.google.com/github/Ashwini0187/AshwiniChoudhary/blob/main/Python_alldatatype.ipynb\" target=\"_parent\"><img src=\"https://colab.research.google.com/assets/colab-badge.svg\" alt=\"Open In Colab\"/></a>"
      ]
    },
    {
      "cell_type": "code",
      "execution_count": null,
      "metadata": {
        "id": "cgUDOClD7vph"
      },
      "outputs": [],
      "source": []
    },
    {
      "cell_type": "code",
      "source": [
        "# Basics of python\n",
        "\"\"\"\n",
        "this is multiple line comment\n",
        "\n",
        "\"\"\""
      ],
      "metadata": {
        "colab": {
          "base_uri": "https://localhost:8080/",
          "height": 36
        },
        "id": "Lw8sFJrZ8Sw0",
        "outputId": "3fba97cc-f875-4ad0-826f-ee16d21cf382"
      },
      "execution_count": null,
      "outputs": [
        {
          "output_type": "execute_result",
          "data": {
            "text/plain": [
              "'\\nthis is multiple line comment \\n\\n'"
            ],
            "application/vnd.google.colaboratory.intrinsic+json": {
              "type": "string"
            }
          },
          "metadata": {},
          "execution_count": 1
        }
      ]
    },
    {
      "cell_type": "markdown",
      "source": [
        "# New Section"
      ],
      "metadata": {
        "id": "BhEuRgca8JWS"
      }
    },
    {
      "cell_type": "code",
      "source": [
        "print(a)"
      ],
      "metadata": {
        "colab": {
          "base_uri": "https://localhost:8080/"
        },
        "id": "cgQiF9ISDi4t",
        "outputId": "bd462a5f-d8b3-4046-dbb8-eff8c46a9ac0"
      },
      "execution_count": null,
      "outputs": [
        {
          "output_type": "stream",
          "name": "stdout",
          "text": [
            "76\n"
          ]
        }
      ]
    },
    {
      "cell_type": "markdown",
      "source": [],
      "metadata": {
        "id": "Jc1EoLPUDiVz"
      }
    },
    {
      "cell_type": "code",
      "source": [
        "a=76\n",
        "b=56"
      ],
      "metadata": {
        "id": "v_iMKjmLDcfD"
      },
      "execution_count": null,
      "outputs": []
    },
    {
      "cell_type": "code",
      "source": [
        "print(type(a))"
      ],
      "metadata": {
        "id": "mgRvlhm6D0F8"
      },
      "execution_count": null,
      "outputs": []
    },
    {
      "cell_type": "code",
      "source": [
        "print(72e4)\n",
        "print(72e-3)"
      ],
      "metadata": {
        "id": "CLM4_TWkGZWD"
      },
      "execution_count": null,
      "outputs": []
    },
    {
      "cell_type": "code",
      "source": [
        "a=2+3j\n",
        "print(a)\n",
        "print(a.real)\n",
        "print(a.imag)\n",
        "print(a.conjugate)\n",
        "b=5j\n",
        "print(b)"
      ],
      "metadata": {
        "colab": {
          "base_uri": "https://localhost:8080/"
        },
        "id": "cH5A9T6YHOMG",
        "outputId": "8feaafc0-c170-4e9e-b71f-e3ac41021de9"
      },
      "execution_count": null,
      "outputs": [
        {
          "output_type": "stream",
          "name": "stdout",
          "text": [
            "(2+3j)\n",
            "2.0\n",
            "3.0\n",
            "<built-in method conjugate of complex object at 0x7ed907e1b4d0>\n",
            "5j\n"
          ]
        }
      ]
    },
    {
      "cell_type": "code",
      "source": [
        "s1=\"hello\"\n",
        "s2='hello'\n",
        "print(s2)\n",
        "print(s1)\n",
        "print(type(s1))\n",
        "print(type(s2))"
      ],
      "metadata": {
        "colab": {
          "base_uri": "https://localhost:8080/"
        },
        "id": "_S_4n2BEJLW4",
        "outputId": "3cfcf717-4c6b-429f-ac72-db9ca2b10036"
      },
      "execution_count": null,
      "outputs": [
        {
          "output_type": "stream",
          "name": "stdout",
          "text": [
            "hello\n",
            "hello\n",
            "<class 'str'>\n",
            "<class 'str'>\n"
          ]
        }
      ]
    },
    {
      "cell_type": "code",
      "source": [
        "name='ashwini'\n",
        "age=24\n",
        "print(\"my name is\", name,\"my age is\",age)\n",
        "print(type(name))\n",
        "print(type(age))\n"
      ],
      "metadata": {
        "colab": {
          "base_uri": "https://localhost:8080/"
        },
        "id": "4e8CIs1lMx8K",
        "outputId": "b1b8a860-3da4-4738-e81e-25c5dbccdf77"
      },
      "execution_count": null,
      "outputs": [
        {
          "output_type": "stream",
          "name": "stdout",
          "text": [
            "my name is ashwini my age is 24\n",
            "<class 'str'>\n",
            "<class 'int'>\n"
          ]
        }
      ]
    },
    {
      "cell_type": "code",
      "source": [
        "#list[] (list data type)---orderd collection of items--list is mutable\n",
        "ganesh_eid=456\n",
        "piyush_eid=756\n",
        "priyanka_eid=567\n",
        "emp_id_tata=[1,2,3,4,5,6,7,8,9,10]\n",
        "emp_id_infosys=[11,12,13,14,15,16,17,18,19,20]\n",
        "emp_id_tesla=[100,200,300,400,500,600,700,800,900]\n",
        "emp_id_tata_infosis_tesla=[[1,2,3,4,5,6,7,8,9,10],[11,12,13,14,15,16,17,18,19,20],[100,200,300,400,500,600,700,800,900]]\n",
        "\n",
        "print(\"the empid for tata companies--\",emp_id_tata)\n",
        "print(type(emp_id_tata))"
      ],
      "metadata": {
        "colab": {
          "base_uri": "https://localhost:8080/"
        },
        "id": "pnynZ1_Ia3jd",
        "outputId": "4246eac8-86c4-4730-a0da-9ccd29739a69"
      },
      "execution_count": null,
      "outputs": [
        {
          "output_type": "stream",
          "name": "stdout",
          "text": [
            "the empid for tata companies-- [1, 2, 3, 4, 5, 6, 7, 8, 9, 10]\n",
            "<class 'list'>\n"
          ]
        }
      ]
    },
    {
      "cell_type": "code",
      "source": [
        "#tupledata() type (it is a ordered sequence of datatype)---tuple is immutable\n",
        "tuple_items=(1,2,3,4,5,6,7,8,9,10)\n",
        "print(tuple_items)\n",
        "print(type(tuple_items))"
      ],
      "metadata": {
        "colab": {
          "base_uri": "https://localhost:8080/"
        },
        "id": "U1o4zma6d4mI",
        "outputId": "9e92feb1-4790-41b9-baf0-be9560842cb7"
      },
      "execution_count": null,
      "outputs": [
        {
          "output_type": "stream",
          "name": "stdout",
          "text": [
            "(1, 2, 3, 4, 5, 6, 7, 8, 9, 10)\n",
            "<class 'tuple'>\n"
          ]
        }
      ]
    },
    {
      "cell_type": "code",
      "source": [
        "#dictionary{}(dict datatype)\n",
        "#it is an unordered collection of key value paires\n",
        "dictionary={\"name\":\"hitesh\",\"age\":24}\n",
        "print(dictionary)\n",
        "print(type(dictionary))"
      ],
      "metadata": {
        "colab": {
          "base_uri": "https://localhost:8080/"
        },
        "id": "hBxNtAv9g0ka",
        "outputId": "1fbe4f35-980f-4904-b84e-dff62144853c"
      },
      "execution_count": null,
      "outputs": [
        {
          "output_type": "stream",
          "name": "stdout",
          "text": [
            "{'name': 'hitesh', 'age': 24}\n",
            "<class 'dict'>\n"
          ]
        }
      ]
    },
    {
      "cell_type": "code",
      "source": [
        "#unordered collection of items\n",
        "#every(element/values/items/datas),it must be unique in side the set\n",
        "sets={1,2,3,4,5,6,6,6,6,6,5,5,5,4,3,2}\n",
        "list=[1,2,3,4,5,6,6,6,6,6,5,5,5,4,3,2]\n",
        "days={\"sun\",\"mon\",\"tus\",\"wed\",\"thurs\",\"fri\",\"set\"}\n",
        "print(days)\n",
        "print(type(sets))\n",
        "print(sets)\n",
        "print(list)\n"
      ],
      "metadata": {
        "colab": {
          "base_uri": "https://localhost:8080/"
        },
        "id": "riaEOnKWkWKL",
        "outputId": "30dd0da6-fd06-4011-e421-99aef9d647ee"
      },
      "execution_count": null,
      "outputs": [
        {
          "output_type": "stream",
          "name": "stdout",
          "text": [
            "{'fri', 'sun', 'thurs', 'set', 'wed', 'tus', 'mon'}\n",
            "<class 'set'>\n",
            "{1, 2, 3, 4, 5, 6}\n",
            "[1, 2, 3, 4, 5, 6, 6, 6, 6, 6, 5, 5, 5, 4, 3, 2]\n"
          ]
        }
      ]
    },
    {
      "cell_type": "code",
      "source": [
        "name=input(\"enter your name\")\n",
        "print(\"your name is\", name)\n",
        "age = int(input(\"enter your age\"))\n",
        "print(\"your age is\",age)"
      ],
      "metadata": {
        "colab": {
          "base_uri": "https://localhost:8080/"
        },
        "id": "HfglcEhhlMJZ",
        "outputId": "a1aa22a7-4740-40a7-93e9-66564a4db355"
      },
      "execution_count": null,
      "outputs": [
        {
          "output_type": "stream",
          "name": "stdout",
          "text": [
            "enter your namefg\n",
            "your name is fg\n",
            "enter your age78\n",
            "your age is 78\n"
          ]
        }
      ]
    },
    {
      "cell_type": "code",
      "source": [
        "#formate method\n",
        "x=10\n",
        "y=20\n",
        "print(\"the value of x is\",x,\"and the value of y is\",y)\n",
        "print(\"the value of x is {} and the value of y is {}\".format(x,y))"
      ],
      "metadata": {
        "colab": {
          "base_uri": "https://localhost:8080/"
        },
        "id": "NUp_YUKoUY4s",
        "outputId": "b0c5ad11-5d48-4c11-fd83-6387aca53f5a"
      },
      "execution_count": null,
      "outputs": [
        {
          "output_type": "stream",
          "name": "stdout",
          "text": [
            "the value of x is 10 and the value of y is 20\n",
            "the value of x is 10 and the value of y is 20\n"
          ]
        }
      ]
    },
    {
      "cell_type": "code",
      "source": [
        "print(\"i love {0} and {1}\".format(\"bike\",\"superbike\"))\n",
        "print(\"i love {1} and {0}\".format(\"bike\",\"superbike\"))"
      ],
      "metadata": {
        "colab": {
          "base_uri": "https://localhost:8080/"
        },
        "id": "FdmpZKmDWadT",
        "outputId": "10b1ef1f-eacc-442a-b838-8991c90939c3"
      },
      "execution_count": null,
      "outputs": [
        {
          "output_type": "stream",
          "name": "stdout",
          "text": [
            "i love bike and superbike\n",
            "i love superbike and bike\n"
          ]
        }
      ]
    },
    {
      "cell_type": "code",
      "source": [
        "i=20\n",
        "if(i<15):\n",
        "  print(\"i is less then 15\")\n",
        "\n",
        "print(\"i is not less then 15\")"
      ],
      "metadata": {
        "colab": {
          "base_uri": "https://localhost:8080/"
        },
        "id": "g96EPQeIcFLr",
        "outputId": "500dc1bb-3442-4a3c-9ab1-d6d9df94a039"
      },
      "execution_count": null,
      "outputs": [
        {
          "output_type": "stream",
          "name": "stdout",
          "text": [
            "i is not less then 15\n"
          ]
        }
      ]
    },
    {
      "cell_type": "code",
      "source": [
        "number=int(input(\"enter a number for checking even or odd \"))\n",
        "if(number%2==0):\n",
        "  print(\"number is even\")\n",
        "else:\n",
        "  print(\"number is odd\")"
      ],
      "metadata": {
        "colab": {
          "base_uri": "https://localhost:8080/"
        },
        "id": "2NDrFg-AeRq1",
        "outputId": "f5585dd4-e940-4bfb-fa6b-b95ed391a023"
      },
      "execution_count": null,
      "outputs": [
        {
          "output_type": "stream",
          "name": "stdout",
          "text": [
            "enter a number for checking even or odd 20\n",
            "number is even\n"
          ]
        }
      ]
    },
    {
      "cell_type": "code",
      "source": [],
      "metadata": {
        "id": "bTKv9CGrgEt5"
      },
      "execution_count": null,
      "outputs": []
    },
    {
      "cell_type": "code",
      "source": [
        "#and check if centuri is leap centuri\n",
        "year=int(input(\"enter a leap year\"))\n",
        "if(year%4==0 and  year%400==0):\n",
        "  print(year,\"is a leap year or centuri\")\n",
        "else:\n",
        "  print(year,\"is not a leap year or centuri\")"
      ],
      "metadata": {
        "colab": {
          "base_uri": "https://localhost:8080/"
        },
        "id": "JNi58xsHgBlK",
        "outputId": "348d4bef-3870-42b0-a241-30b415fe038d"
      },
      "execution_count": null,
      "outputs": [
        {
          "output_type": "stream",
          "name": "stdout",
          "text": [
            "enter a leap year2000\n",
            "2000 is a leap year or centuri\n"
          ]
        }
      ]
    },
    {
      "cell_type": "code",
      "source": [
        "year=int(input(\"enter year\"))\n",
        "if(year%4==0):\n",
        "  print(year,\"is leap year\")\n",
        "elif(year%400==0):\n",
        "  print(year,\"is leap century\")\n",
        "elif(year%100!=0):\n",
        "  print(\"you are are gessing wrong year\")\n",
        "else:\n",
        "  print(\"is not leap year and cetury\")"
      ],
      "metadata": {
        "id": "V6wuf7ovjcuj"
      },
      "execution_count": null,
      "outputs": []
    },
    {
      "cell_type": "code",
      "source": [
        "n1=int(input(\"enter n1\"))\n",
        "n2=int(input(\"enter n1\"))\n",
        "n3=int(input(\"enter n1\"))\n",
        "if((n1>n2) and (n1>n3)):\n",
        "  l=n1\n",
        "elif((n2>n1) and (n2>n3)):\n",
        "  l=n2\n",
        "else:\n",
        "  l=n3\n",
        "print(f\"n1={n1}\")\n",
        "print(f\"n2={n2}\")\n",
        "print(f\"n3={n3}\")\n",
        "print(f\"greater number is={l}\")"
      ],
      "metadata": {
        "colab": {
          "base_uri": "https://localhost:8080/"
        },
        "id": "dsdzNLt-n5u3",
        "outputId": "2044a801-f598-4ee0-dee7-8f6efdc11b42"
      },
      "execution_count": null,
      "outputs": [
        {
          "output_type": "stream",
          "name": "stdout",
          "text": [
            "enter n120\n",
            "enter n130\n",
            "enter n140\n",
            "n1=20\n",
            "n2=30\n",
            "n3=40\n",
            "greater number is=40\n"
          ]
        }
      ]
    },
    {
      "cell_type": "code",
      "source": [
        "count=0\n",
        "while count<=10:\n",
        "  print(\"count=\", count)\n",
        "  count = count+1"
      ],
      "metadata": {
        "colab": {
          "base_uri": "https://localhost:8080/"
        },
        "id": "Z1H4MI5hwcso",
        "outputId": "be3ceeb0-ce4c-4f71-c1dc-02b2f4788908"
      },
      "execution_count": null,
      "outputs": [
        {
          "output_type": "stream",
          "name": "stdout",
          "text": [
            "count= 0\n",
            "count= 1\n",
            "count= 2\n",
            "count= 3\n",
            "count= 4\n",
            "count= 5\n",
            "count= 6\n",
            "count= 7\n",
            "count= 8\n",
            "count= 9\n",
            "count= 10\n"
          ]
        }
      ]
    },
    {
      "cell_type": "code",
      "source": [
        "\n",
        "no=0\n",
        "while no<=100:\n",
        "  if(no==20 or no==50):\n",
        "    print(\"of no.=20 and no.=50\")\n",
        "  elif(no==50):\n",
        "    print(\"no. is 50\")\n",
        "  no +=1\n"
      ],
      "metadata": {
        "colab": {
          "base_uri": "https://localhost:8080/"
        },
        "id": "hdDWZi6Jy1X_",
        "outputId": "cc47ed24-330d-4525-ceee-f167a6cb2beb"
      },
      "execution_count": null,
      "outputs": [
        {
          "output_type": "stream",
          "name": "stdout",
          "text": [
            "of no.=20 and no.=50\n",
            "of no.=20 and no.=50\n"
          ]
        }
      ]
    },
    {
      "cell_type": "code",
      "source": [],
      "metadata": {
        "id": "Re62kGsD8U9S"
      },
      "execution_count": null,
      "outputs": []
    },
    {
      "cell_type": "code",
      "source": [
        "l=[10,20,30,40,50,60,70,80,90]\n",
        "print(\"before\",l)\n",
        "print(\"after\")\n",
        "for i in l:\n",
        "  print(i)\n"
      ],
      "metadata": {
        "colab": {
          "base_uri": "https://localhost:8080/"
        },
        "id": "3ZuB2Gso8QHb",
        "outputId": "81c34b57-6b22-403b-c1e7-783de7e5eb8f"
      },
      "execution_count": null,
      "outputs": [
        {
          "output_type": "stream",
          "name": "stdout",
          "text": [
            "before [10, 20, 30, 40, 50, 60, 70, 80, 90]\n",
            "after\n",
            "10\n",
            "20\n",
            "30\n",
            "40\n",
            "50\n",
            "60\n",
            "70\n",
            "80\n",
            "90\n"
          ]
        }
      ]
    },
    {
      "cell_type": "code",
      "source": [
        "for letter in \"python\":\n",
        "  print(\"current letter\",letter)"
      ],
      "metadata": {
        "colab": {
          "base_uri": "https://localhost:8080/"
        },
        "id": "ZlswWgdW9noJ",
        "outputId": "9a9fc708-d726-4fb8-ff65-b99cad0cc328"
      },
      "execution_count": null,
      "outputs": [
        {
          "output_type": "stream",
          "name": "stdout",
          "text": [
            "current letter p\n",
            "current letter y\n",
            "current letter t\n",
            "current letter h\n",
            "current letter o\n",
            "current letter n\n"
          ]
        }
      ]
    },
    {
      "cell_type": "code",
      "source": [
        "print(list(range(1,101)))\n",
        "print(list(range(1,101,2)))\n",
        "print(list(range(1,101,3)))\n",
        "\n",
        "print(list(range(101,1,-2)))\n",
        "print(list(range(-4,4)))"
      ],
      "metadata": {
        "colab": {
          "base_uri": "https://localhost:8080/"
        },
        "id": "AB60_Dqd_h5P",
        "outputId": "d7ac55ee-79f4-416f-a02c-af43047434b2"
      },
      "execution_count": null,
      "outputs": [
        {
          "output_type": "stream",
          "name": "stdout",
          "text": [
            "[1, 2, 3, 4, 5, 6, 7, 8, 9, 10, 11, 12, 13, 14, 15, 16, 17, 18, 19, 20, 21, 22, 23, 24, 25, 26, 27, 28, 29, 30, 31, 32, 33, 34, 35, 36, 37, 38, 39, 40, 41, 42, 43, 44, 45, 46, 47, 48, 49, 50, 51, 52, 53, 54, 55, 56, 57, 58, 59, 60, 61, 62, 63, 64, 65, 66, 67, 68, 69, 70, 71, 72, 73, 74, 75, 76, 77, 78, 79, 80, 81, 82, 83, 84, 85, 86, 87, 88, 89, 90, 91, 92, 93, 94, 95, 96, 97, 98, 99, 100]\n",
            "[1, 3, 5, 7, 9, 11, 13, 15, 17, 19, 21, 23, 25, 27, 29, 31, 33, 35, 37, 39, 41, 43, 45, 47, 49, 51, 53, 55, 57, 59, 61, 63, 65, 67, 69, 71, 73, 75, 77, 79, 81, 83, 85, 87, 89, 91, 93, 95, 97, 99]\n",
            "[1, 4, 7, 10, 13, 16, 19, 22, 25, 28, 31, 34, 37, 40, 43, 46, 49, 52, 55, 58, 61, 64, 67, 70, 73, 76, 79, 82, 85, 88, 91, 94, 97, 100]\n",
            "[101, 99, 97, 95, 93, 91, 89, 87, 85, 83, 81, 79, 77, 75, 73, 71, 69, 67, 65, 63, 61, 59, 57, 55, 53, 51, 49, 47, 45, 43, 41, 39, 37, 35, 33, 31, 29, 27, 25, 23, 21, 19, 17, 15, 13, 11, 9, 7, 5, 3]\n",
            "[-4, -3, -2, -1, 0, 1, 2, 3]\n"
          ]
        }
      ]
    },
    {
      "cell_type": "code",
      "source": [
        "for i in range(1,11):\n",
        " print(i)"
      ],
      "metadata": {
        "colab": {
          "base_uri": "https://localhost:8080/"
        },
        "id": "alGwHQeSCiMK",
        "outputId": "21ce478b-a201-4960-a1ae-ae9d8b47de31"
      },
      "execution_count": null,
      "outputs": [
        {
          "output_type": "stream",
          "name": "stdout",
          "text": [
            "1\n",
            "2\n",
            "3\n",
            "4\n",
            "5\n",
            "6\n",
            "7\n",
            "8\n",
            "9\n",
            "10\n"
          ]
        }
      ]
    },
    {
      "cell_type": "code",
      "source": [
        "n = int(input(\"Enter a number:\"))\n",
        "for i in range(2,n+1):\n",
        "  if(n%i==0):\n",
        "   break\n",
        "\n",
        "if i==n:\n",
        "  print(\"n is a prim number\")\n",
        "else:\n",
        "  print(\"n is not prime number\")\n"
      ],
      "metadata": {
        "colab": {
          "base_uri": "https://localhost:8080/"
        },
        "id": "q9ValyiAFQA7",
        "outputId": "2fc27c39-07a1-43db-cc2a-f7dadd0fb972"
      },
      "execution_count": null,
      "outputs": [
        {
          "output_type": "stream",
          "name": "stdout",
          "text": [
            "Enter a number:7\n",
            "n is a prim number\n"
          ]
        }
      ]
    },
    {
      "cell_type": "code",
      "source": [
        "a=\"ashwini\"\n",
        "print(a)\n",
        "b='ashwini01'\n",
        "print(b)\n",
        "c='''ashwini02'''\n",
        "print(c)\n",
        "d=\"\"\"ashwini03\"\"\"\n",
        "print(d)"
      ],
      "metadata": {
        "colab": {
          "base_uri": "https://localhost:8080/"
        },
        "id": "xpV_K0KAKA_E",
        "outputId": "c25f291c-fd83-4de3-c5b0-b930e9fd77a8"
      },
      "execution_count": null,
      "outputs": [
        {
          "output_type": "stream",
          "name": "stdout",
          "text": [
            "ashwini\n",
            "ashwini01\n",
            "ashwini02\n",
            "ashwini03\n"
          ]
        }
      ]
    },
    {
      "cell_type": "code",
      "source": [
        "s=\"hello python\"\n",
        "print(s)\n",
        "print(s[1])\n",
        "print(s[2])\n",
        "print(s[3])\n",
        "print(s[4])\n",
        "print(s[5])\n",
        "print(s[6])\n",
        "\n",
        "print(s[4:5])\n",
        "print(s[7:9])\n",
        "print(s[2:])\n",
        "print(s[:5])\n",
        "print(s[-1])\n",
        "print(s[-5:])\n",
        "print(s[:-5])\n",
        "print(s[1:10:2])\n",
        "\n",
        "\n"
      ],
      "metadata": {
        "colab": {
          "base_uri": "https://localhost:8080/"
        },
        "id": "IH4Fp9hJLyj0",
        "outputId": "e50d4085-520c-46d8-a42c-334059f17af1"
      },
      "execution_count": null,
      "outputs": [
        {
          "output_type": "stream",
          "name": "stdout",
          "text": [
            "hello python\n",
            "e\n",
            "l\n",
            "l\n",
            "o\n",
            " \n",
            "p\n",
            "o\n",
            "yt\n",
            "llo python\n",
            "hello\n",
            "n\n",
            "ython\n",
            "hello p\n",
            "el yh\n"
          ]
        }
      ]
    },
    {
      "cell_type": "code",
      "source": [
        "msg=\"hello python\"\n",
        "print(\"updated string-\",msg[:6]+'python')\n",
        "print(type(msg))"
      ],
      "metadata": {
        "colab": {
          "base_uri": "https://localhost:8080/"
        },
        "id": "MICLG1ONfCI3",
        "outputId": "b478cf10-4df2-487a-9396-b1024854d88d"
      },
      "execution_count": null,
      "outputs": [
        {
          "output_type": "stream",
          "name": "stdout",
          "text": [
            "updated string- hello python\n",
            "<class 'str'>\n"
          ]
        }
      ]
    },
    {
      "cell_type": "code",
      "source": [
        "print(\"this is printed\\n in two lines\")\n",
        "print(\"this is \\x48\\x45\\x58 representations\")\n",
        "\n"
      ],
      "metadata": {
        "colab": {
          "base_uri": "https://localhost:8080/"
        },
        "id": "-5jcrSP2hRJ3",
        "outputId": "690a8a7c-9f5a-4072-f988-a7df3ebeafac"
      },
      "execution_count": null,
      "outputs": [
        {
          "output_type": "stream",
          "name": "stdout",
          "text": [
            "this is printed\n",
            " in two lines\n",
            "this is HEX representations\n"
          ]
        }
      ]
    },
    {
      "cell_type": "code",
      "source": [
        "s1=\"hello\"\n",
        "s2=\" world\"\n",
        "s3=s1+s2\n",
        "print(s3)\n",
        "\n",
        "s4=\"hello \"\n",
        "\n",
        "print(s4*10)\n",
        "print(\"h\" in s4)\n",
        "print(\"g\" not in s4)"
      ],
      "metadata": {
        "colab": {
          "base_uri": "https://localhost:8080/"
        },
        "id": "i_rpQXyKo1m1",
        "outputId": "6825901f-03c8-4bbc-abac-4db8ba2265d7"
      },
      "execution_count": null,
      "outputs": [
        {
          "output_type": "stream",
          "name": "stdout",
          "text": [
            "hello world\n",
            "hello hello hello hello hello hello hello hello hello hello \n",
            "True\n",
            "True\n"
          ]
        }
      ]
    },
    {
      "cell_type": "code",
      "source": [
        "val=\"r\"\n",
        "print(\"the name ram starts with letter = %c \"%val)\n",
        "val1=\"ram\"\n",
        "print(\"the name ram starts with letter = %s \"%val1)\n",
        "\n"
      ],
      "metadata": {
        "colab": {
          "base_uri": "https://localhost:8080/"
        },
        "id": "u8_PBjXErlK7",
        "outputId": "715c8a7e-e696-4c6c-bee1-315652f2bea8"
      },
      "execution_count": null,
      "outputs": [
        {
          "output_type": "stream",
          "name": "stdout",
          "text": [
            "the name ram starts with letter = r \n",
            "the name ram starts with letter = ram \n"
          ]
        }
      ]
    },
    {
      "cell_type": "code",
      "source": [
        "g=\"india aountry\"\n",
        "print(g.capitalize())\n",
        "print(g.count('a',4,13))"
      ],
      "metadata": {
        "colab": {
          "base_uri": "https://localhost:8080/"
        },
        "id": "iMLG7f9ht6PN",
        "outputId": "3a12b437-9ef1-4fe3-be7b-d0c82e996c11"
      },
      "execution_count": null,
      "outputs": [
        {
          "output_type": "stream",
          "name": "stdout",
          "text": [
            "India aountry\n",
            "2\n"
          ]
        }
      ]
    },
    {
      "cell_type": "code",
      "source": [
        "h=[\"orange\",\"banana\",\"apple\",\"grapse\",\"coconut\"]\n",
        "p=enumerate(h)\n",
        "p1=enumerate(h,1)\n",
        "print(list(p))\n",
        "print(list(p1))"
      ],
      "metadata": {
        "colab": {
          "base_uri": "https://localhost:8080/"
        },
        "id": "e1XWFZE-xypl",
        "outputId": "092ed819-b16b-4d50-f06c-5f2d1232d185"
      },
      "execution_count": null,
      "outputs": [
        {
          "output_type": "stream",
          "name": "stdout",
          "text": [
            "[(0, 'orange'), (1, 'banana'), (2, 'apple'), (3, 'grapse'), (4, 'coconut')]\n",
            "[(1, 'orange'), (2, 'banana'), (3, 'apple'), (4, 'grapse'), (5, 'coconut')]\n"
          ]
        }
      ]
    },
    {
      "cell_type": "code",
      "source": [
        "k=\"python programming\"\n",
        "print(k.find(\"prog\"))\n",
        "print(k.find(\"prog\",12))"
      ],
      "metadata": {
        "colab": {
          "base_uri": "https://localhost:8080/"
        },
        "id": "dJjZNfitz0FI",
        "outputId": "caebfd34-0113-43eb-c220-602cda48d162"
      },
      "execution_count": null,
      "outputs": [
        {
          "output_type": "stream",
          "name": "stdout",
          "text": [
            "7\n",
            "-1\n"
          ]
        }
      ]
    },
    {
      "cell_type": "code",
      "source": [
        "e=\"python3\"\n",
        "print(e.isalnum())\n",
        "f=\"python\"\n",
        "print(f.isalnum())\n",
        "g=\"1234\"\n",
        "print(g.isalnum())\n",
        "k=\"python programming\"\n",
        "print(k.isalnum())"
      ],
      "metadata": {
        "colab": {
          "base_uri": "https://localhost:8080/"
        },
        "id": "F2_bfhhN20ZE",
        "outputId": "39a38d5b-f702-42e2-fe0a-e370eacb8788"
      },
      "execution_count": null,
      "outputs": [
        {
          "output_type": "stream",
          "name": "stdout",
          "text": [
            "True\n",
            "True\n",
            "True\n",
            "False\n"
          ]
        }
      ]
    },
    {
      "cell_type": "code",
      "source": [
        "list=[]\n",
        "list1=[1,2,3,4,5]\n",
        "list2=[1, 2, 3,'a','b',\"coachx\", True , 2.34,-45.67]\n",
        "print(\"list\",list)\n",
        "print(\"list1\",list1)\n",
        "print(\"list2\",list2)"
      ],
      "metadata": {
        "colab": {
          "base_uri": "https://localhost:8080/"
        },
        "id": "kNTQEfOpKanx",
        "outputId": "97357f8e-fad6-451f-f9a6-8a1ee5fe8465"
      },
      "execution_count": 2,
      "outputs": [
        {
          "output_type": "stream",
          "name": "stdout",
          "text": [
            "list []\n",
            "list1 [1, 2, 3, 4, 5]\n",
            "list2 [1, 2, 3, 'a', 'b', 'coachx', True, 2.34, -45.67]\n"
          ]
        }
      ]
    },
    {
      "cell_type": "code",
      "source": [
        "lst = [\"One\" , \"Two\" ,3 ,4 , \"five\" , \"Six\" , 20 , 10 , 30]\n",
        "print(lst[0])\n",
        "print(lst[3:7])\n",
        "print(lst[:-2])\n",
        "lst[-2]=100\n",
        "print(lst)"
      ],
      "metadata": {
        "colab": {
          "base_uri": "https://localhost:8080/"
        },
        "id": "PxPcHkVfOG7E",
        "outputId": "1fba8dfe-f755-4ded-8836-9b01998317a5"
      },
      "execution_count": 5,
      "outputs": [
        {
          "output_type": "stream",
          "name": "stdout",
          "text": [
            "One\n",
            "[4, 'five', 'Six', 20]\n",
            "['One', 'Two', 3, 4, 'five', 'Six', 20]\n",
            "['One', 'Two', 3, 4, 'five', 'Six', 20, 100, 30]\n"
          ]
        }
      ]
    },
    {
      "cell_type": "code",
      "source": [
        "nestedlist = [1,2,['a',1,2,3],4,5]\n",
        "print(nestedlist)\n",
        "element=nestedlist[2][0]\n",
        "print(element)"
      ],
      "metadata": {
        "colab": {
          "base_uri": "https://localhost:8080/"
        },
        "id": "_-yEqVIKRm6R",
        "outputId": "98f94b0b-04a9-4f48-99d5-419748c6beff"
      },
      "execution_count": 7,
      "outputs": [
        {
          "output_type": "stream",
          "name": "stdout",
          "text": [
            "[1, 2, ['a', 1, 2, 3], 4, 5]\n",
            "a\n"
          ]
        }
      ]
    },
    {
      "cell_type": "code",
      "source": [
        "trv=[1,2,3,4,5,6,7]\n",
        "print(trv)\n",
        "for i in trv:\n",
        " print(i)"
      ],
      "metadata": {
        "colab": {
          "base_uri": "https://localhost:8080/"
        },
        "id": "-F09OaROTJyO",
        "outputId": "a2c273dd-4101-48b3-a2ed-bae05b82c812"
      },
      "execution_count": 9,
      "outputs": [
        {
          "output_type": "stream",
          "name": "stdout",
          "text": [
            "[1, 2, 3, 4, 5, 6, 7]\n",
            "1\n",
            "2\n",
            "3\n",
            "4\n",
            "5\n",
            "6\n",
            "7\n"
          ]
        }
      ]
    },
    {
      "cell_type": "code",
      "source": [
        "mat=[[0,1,2],\n",
        "     [3,4,5],\n",
        "     [6,7,8],\n",
        "     [9,10,11]]\n",
        "\n",
        "print(mat)\n",
        "\n",
        "rows=len(mat)\n",
        "print(\"rows of the list\",rows)\n",
        "col=len(mat[0])\n",
        "print(\"columns of the list\", col)\n",
        "print(\"matlix:\")\n",
        "for i in range(0,rows):\n",
        "  print(mat[i])\n",
        "\n",
        "print(mat[1][0])\n",
        "print(mat[2][1])\n",
        "\n"
      ],
      "metadata": {
        "colab": {
          "base_uri": "https://localhost:8080/"
        },
        "id": "iyq7f6kST0U8",
        "outputId": "5a4def6f-72ec-4e64-93ec-0d4e093a3c91"
      },
      "execution_count": 15,
      "outputs": [
        {
          "output_type": "stream",
          "name": "stdout",
          "text": [
            "[[0, 1, 2], [3, 4, 5], [6, 7, 8], [9, 10, 11]]\n",
            "rows of the list 4\n",
            "columns of the list 3\n",
            "matlix:\n",
            "[0, 1, 2]\n",
            "[3, 4, 5]\n",
            "[6, 7, 8]\n",
            "[9, 10, 11]\n",
            "3\n",
            "7\n"
          ]
        }
      ]
    },
    {
      "cell_type": "code",
      "source": [
        "st2=[1,2,3,4,5,6]\n",
        "print(st2)\n",
        "st2[1]=[100,200,300,400]\n",
        "print(st2)\n",
        "st2.append(500)\n",
        "print(st2)\n",
        "st2.extend([101,102,103,104,105])\n",
        "print(st2)\n",
        "st2.insert(0,[\"ashwini\",\"choudhary\"])\n",
        "print(st2)\n",
        "st2.insert(0,1001)\n",
        "print(st2)\n",
        "#print(st2[-34])\n",
        "#print(st2[a])\n",
        "print(st2['a'])"
      ],
      "metadata": {
        "colab": {
          "base_uri": "https://localhost:8080/",
          "height": 280
        },
        "id": "DE_2Jd_zwuUp",
        "outputId": "2cf0e72f-10db-4675-8b06-56a7e9a87440"
      },
      "execution_count": 10,
      "outputs": [
        {
          "output_type": "stream",
          "name": "stdout",
          "text": [
            "[1, 2, 3, 4, 5, 6]\n",
            "[1, [100, 200, 300, 400], 3, 4, 5, 6]\n",
            "[1, [100, 200, 300, 400], 3, 4, 5, 6, 500]\n",
            "[1, [100, 200, 300, 400], 3, 4, 5, 6, 500, 101, 102, 103, 104, 105]\n",
            "[['ashwini', 'choudhary'], 1, [100, 200, 300, 400], 3, 4, 5, 6, 500, 101, 102, 103, 104, 105]\n",
            "[1001, ['ashwini', 'choudhary'], 1, [100, 200, 300, 400], 3, 4, 5, 6, 500, 101, 102, 103, 104, 105]\n"
          ]
        },
        {
          "output_type": "error",
          "ename": "TypeError",
          "evalue": "list indices must be integers or slices, not str",
          "traceback": [
            "\u001b[0;31m---------------------------------------------------------------------------\u001b[0m",
            "\u001b[0;31mTypeError\u001b[0m                                 Traceback (most recent call last)",
            "\u001b[0;32m<ipython-input-10-e419b12ecae6>\u001b[0m in \u001b[0;36m<cell line: 15>\u001b[0;34m()\u001b[0m\n\u001b[1;32m     13\u001b[0m \u001b[0;31m#print(st2[-34])\u001b[0m\u001b[0;34m\u001b[0m\u001b[0;34m\u001b[0m\u001b[0m\n\u001b[1;32m     14\u001b[0m \u001b[0;31m#print(st2[a])\u001b[0m\u001b[0;34m\u001b[0m\u001b[0;34m\u001b[0m\u001b[0m\n\u001b[0;32m---> 15\u001b[0;31m \u001b[0mprint\u001b[0m\u001b[0;34m(\u001b[0m\u001b[0mst2\u001b[0m\u001b[0;34m[\u001b[0m\u001b[0;34m'a'\u001b[0m\u001b[0;34m]\u001b[0m\u001b[0;34m)\u001b[0m\u001b[0;34m\u001b[0m\u001b[0;34m\u001b[0m\u001b[0m\n\u001b[0m",
            "\u001b[0;31mTypeError\u001b[0m: list indices must be integers or slices, not str"
          ]
        }
      ]
    },
    {
      "cell_type": "code",
      "source": [
        "a1=[1,2,3]\n",
        "b1=[\"a\",\"b\"]\n",
        "c1=[40,50,60]\n",
        "res=a1+b1+c1\n",
        "print(res)\n",
        "print((b1)*4)"
      ],
      "metadata": {
        "colab": {
          "base_uri": "https://localhost:8080/"
        },
        "id": "nQzKpb1Z1f5o",
        "outputId": "65eb70ca-45e8-4a3b-d61c-3b8702b21d7b"
      },
      "execution_count": 12,
      "outputs": [
        {
          "output_type": "stream",
          "name": "stdout",
          "text": [
            "[1, 2, 3, 'a', 'b', 40, 50, 60]\n",
            "['a', 'b', 'a', 'b', 'a', 'b', 'a', 'b']\n"
          ]
        }
      ]
    },
    {
      "cell_type": "code",
      "source": [
        "y1=[2,34,56,87,3,78,45,7]\n",
        "print(y1)\n",
        "y1.sort()\n",
        "print(y1)\n",
        "y1.sort(reverse=True)\n",
        "print(y1)\n",
        "y1.pop()\n",
        "print(y1)\n",
        "y1.pop(2)\n",
        "print(y1)\n",
        "del(y1[1])\n",
        "print(y1)\n",
        "del(y1[1:4])\n",
        "print(y1)\n",
        "y1.remove(87)\n",
        "#del(y1)\n",
        "print(y1)\n",
        "y1.clear()\n",
        "print(y1)"
      ],
      "metadata": {
        "colab": {
          "base_uri": "https://localhost:8080/"
        },
        "id": "dCNNwv0C2jgm",
        "outputId": "e05f5d01-d7c7-4f80-8ff2-bc95adfccd61"
      },
      "execution_count": 21,
      "outputs": [
        {
          "output_type": "stream",
          "name": "stdout",
          "text": [
            "[2, 34, 56, 87, 3, 78, 45, 7]\n",
            "[2, 3, 7, 34, 45, 56, 78, 87]\n",
            "[87, 78, 56, 45, 34, 7, 3, 2]\n",
            "[87, 78, 56, 45, 34, 7, 3]\n",
            "[87, 78, 45, 34, 7, 3]\n",
            "[87, 45, 34, 7, 3]\n",
            "[87, 3]\n",
            "[3]\n",
            "[]\n"
          ]
        }
      ]
    },
    {
      "cell_type": "code",
      "source": [
        "traversing_lst = [[1,2,3,4,5,60],['A', 'B','C', 'D', 'E'],['@','#','$','%']]\n",
        "print(traversing_lst)\n",
        "for i in traversing_lst:\n",
        "  print(i)\n",
        "  for j in i:\n",
        "   print(j,end=\" \")\n",
        "  print()"
      ],
      "metadata": {
        "colab": {
          "base_uri": "https://localhost:8080/"
        },
        "id": "o6dra6887mt-",
        "outputId": "04acb57a-8099-4adb-c1cc-c96cf760afbe"
      },
      "execution_count": 25,
      "outputs": [
        {
          "output_type": "stream",
          "name": "stdout",
          "text": [
            "[[1, 2, 3, 4, 5, 60], ['A', 'B', 'C', 'D', 'E'], ['@', '#', '$', '%']]\n",
            "[1, 2, 3, 4, 5, 60]\n",
            "1 2 3 4 5 60 \n",
            "['A', 'B', 'C', 'D', 'E']\n",
            "A B C D E \n",
            "['@', '#', '$', '%']\n",
            "@ # $ % \n"
          ]
        }
      ]
    },
    {
      "cell_type": "code",
      "source": [
        "t1=[1,2,3,4,5,6,7,8,9]\n",
        "print(t1)\n",
        "t1.reverse()\n",
        "print(t1)"
      ],
      "metadata": {
        "colab": {
          "base_uri": "https://localhost:8080/"
        },
        "id": "1zSMpG5u-X4H",
        "outputId": "500d5450-eb6c-46c0-cfd4-cbcaf8019ad4"
      },
      "execution_count": 26,
      "outputs": [
        {
          "output_type": "stream",
          "name": "stdout",
          "text": [
            "[1, 2, 3, 4, 5, 6, 7, 8, 9]\n",
            "[9, 8, 7, 6, 5, 4, 3, 2, 1]\n"
          ]
        }
      ]
    },
    {
      "cell_type": "code",
      "source": [
        "t1=[1,2,3,4,5,6,7,8,9]\n",
        "print(t1)\n",
        "print(t1[::-1])\n"
      ],
      "metadata": {
        "colab": {
          "base_uri": "https://localhost:8080/"
        },
        "id": "voi1bNij-mC1",
        "outputId": "8ecbe7c2-bd6d-4e37-ee87-2068ad724f65"
      },
      "execution_count": 27,
      "outputs": [
        {
          "output_type": "stream",
          "name": "stdout",
          "text": [
            "[1, 2, 3, 4, 5, 6, 7, 8, 9]\n",
            "[9, 8, 7, 6, 5, 4, 3, 2, 1]\n",
            "[1, 2, 3, 4, 5, 6, 7, 8, 9]\n"
          ]
        }
      ]
    },
    {
      "cell_type": "code",
      "source": [
        "t1=[1,2,3,4,5,6,7,8,9]\n",
        "for i in reversed(t1):\n",
        " print(i)"
      ],
      "metadata": {
        "colab": {
          "base_uri": "https://localhost:8080/"
        },
        "id": "RxYELi5G_Mbs",
        "outputId": "1a84db7a-da36-47b6-c294-7285d646089f"
      },
      "execution_count": 29,
      "outputs": [
        {
          "output_type": "stream",
          "name": "stdout",
          "text": [
            "9\n",
            "8\n",
            "7\n",
            "6\n",
            "5\n",
            "4\n",
            "3\n",
            "2\n",
            "1\n"
          ]
        }
      ]
    },
    {
      "cell_type": "code",
      "source": [
        "tup=(11 , \"shweta\" , \"Hitesh\" , \"pune\")\n",
        "(id, name1, name2, location)=tup\n",
        "print(id)\n",
        "print(name1)\n",
        "print(name2)\n",
        "print(location)"
      ],
      "metadata": {
        "colab": {
          "base_uri": "https://localhost:8080/"
        },
        "id": "yb0bvL6WIgj-",
        "outputId": "56ca7978-cb73-482a-f4b5-6d9c4c57eadf"
      },
      "execution_count": 30,
      "outputs": [
        {
          "output_type": "stream",
          "name": "stdout",
          "text": [
            "11\n",
            "shweta\n",
            "Hitesh\n",
            "pune\n"
          ]
        }
      ]
    },
    {
      "cell_type": "code",
      "source": [
        "a = (1,2,3,4,5)\n",
        "b=a[:2]+a[3:]\n",
        "print(b)"
      ],
      "metadata": {
        "colab": {
          "base_uri": "https://localhost:8080/"
        },
        "id": "911Ell5JKx8R",
        "outputId": "3f3ce19d-9ac1-4e6e-f57a-bce7ed52c02b"
      },
      "execution_count": 31,
      "outputs": [
        {
          "output_type": "stream",
          "name": "stdout",
          "text": [
            "(1, 2, 4, 5)\n"
          ]
        }
      ]
    },
    {
      "cell_type": "code",
      "source": [
        "a = (1,2,3,4,5)\n",
        "b = (6,7,8,9,10)\n",
        "c=a+b\n",
        "print(c)"
      ],
      "metadata": {
        "colab": {
          "base_uri": "https://localhost:8080/"
        },
        "id": "_efJokDGLNPb",
        "outputId": "4780c0f2-0385-4d67-a03e-fd695e48e383"
      },
      "execution_count": 32,
      "outputs": [
        {
          "output_type": "stream",
          "name": "stdout",
          "text": [
            "(1, 2, 3, 4, 5, 6, 7, 8, 9, 10)\n"
          ]
        }
      ]
    },
    {
      "cell_type": "code",
      "source": [
        "c = (1,2,3,4,5)\n",
        "print((c)*4)"
      ],
      "metadata": {
        "colab": {
          "base_uri": "https://localhost:8080/"
        },
        "id": "J82iFRnFLXca",
        "outputId": "0cdf3aee-c1fb-4fc2-94fc-b4372d4183b1"
      },
      "execution_count": 33,
      "outputs": [
        {
          "output_type": "stream",
          "name": "stdout",
          "text": [
            "(1, 2, 3, 4, 5, 1, 2, 3, 4, 5, 1, 2, 3, 4, 5, 1, 2, 3, 4, 5)\n"
          ]
        }
      ]
    },
    {
      "cell_type": "code",
      "source": [
        "c = (1,2,3,4,5,'a',\"ashwini\")\n",
        "print(1 in c)\n",
        "print('a' in c)"
      ],
      "metadata": {
        "colab": {
          "base_uri": "https://localhost:8080/"
        },
        "id": "KMaz0-7DLlmT",
        "outputId": "f14648ad-adb4-47b2-d8e1-b7a3191d3619"
      },
      "execution_count": 36,
      "outputs": [
        {
          "output_type": "stream",
          "name": "stdout",
          "text": [
            "True\n",
            "True\n"
          ]
        }
      ]
    },
    {
      "cell_type": "code",
      "source": [
        "tp1 = (1,2,3,4,5,6,7,8,9)\n",
        "for i in tp1:\n",
        "  print(i)"
      ],
      "metadata": {
        "colab": {
          "base_uri": "https://localhost:8080/"
        },
        "id": "AlGmZI6mMDM8",
        "outputId": "61193e96-2dc6-4f34-eeda-010f8009c320"
      },
      "execution_count": 38,
      "outputs": [
        {
          "output_type": "stream",
          "name": "stdout",
          "text": [
            "1\n",
            "2\n",
            "3\n",
            "4\n",
            "5\n",
            "6\n",
            "7\n",
            "8\n",
            "9\n"
          ]
        }
      ]
    },
    {
      "cell_type": "code",
      "source": [
        "tp2 = (1,2,3,4,(5,6,7,8),9,10)\n",
        "for i in tp2:\n",
        "  print(i)"
      ],
      "metadata": {
        "colab": {
          "base_uri": "https://localhost:8080/"
        },
        "id": "poaWuj3rMUzg",
        "outputId": "f473298a-8008-42a7-948a-8c2eacdf5dab"
      },
      "execution_count": 39,
      "outputs": [
        {
          "output_type": "stream",
          "name": "stdout",
          "text": [
            "1\n",
            "2\n",
            "3\n",
            "4\n",
            "(5, 6, 7, 8)\n",
            "9\n",
            "10\n"
          ]
        }
      ]
    },
    {
      "cell_type": "code",
      "source": [
        "tp3 = (1,2,3,4,(5,6,7,8),9,10)\n",
        "for i in tp3:\n",
        "  if isinstance(i, tuple):\n",
        "   for j in i:\n",
        "    print(j)\n",
        "  else:\n",
        "    print(i)"
      ],
      "metadata": {
        "colab": {
          "base_uri": "https://localhost:8080/"
        },
        "id": "nDOjinFWPPfA",
        "outputId": "00faa8b4-4630-4e6e-eab9-1a998f294467"
      },
      "execution_count": 42,
      "outputs": [
        {
          "output_type": "stream",
          "name": "stdout",
          "text": [
            "1\n",
            "2\n",
            "3\n",
            "4\n",
            "5\n",
            "6\n",
            "7\n",
            "8\n",
            "9\n",
            "10\n"
          ]
        }
      ]
    },
    {
      "cell_type": "code",
      "source": [
        "tp1 = (1,2,3,4,5,6,7,8,9)\n",
        "print(tp1)\n",
        "tpl_tp_list=list(tp1)\n",
        "print(tpl_tp_list)\n",
        "tpl_tp_list[0]=100\n",
        "tpl_tp_list[2]=(10,20,30,40)\n",
        "print(tpl_tp_list)\n",
        "list_to_tup=tuple(tpl_tp_list)\n",
        "print(list_to_tup)\n",
        "list_to_tup=tuple(tpl_tp_list[2])\n",
        "\n",
        "print(list_to_tup)\n"
      ],
      "metadata": {
        "colab": {
          "base_uri": "https://localhost:8080/"
        },
        "id": "Z-Xs-Q1cQwzx",
        "outputId": "414ade3d-772c-48c2-d3ba-7eb7ab2ad754"
      },
      "execution_count": 49,
      "outputs": [
        {
          "output_type": "stream",
          "name": "stdout",
          "text": [
            "(1, 2, 3, 4, 5, 6, 7, 8, 9)\n",
            "[1, 2, 3, 4, 5, 6, 7, 8, 9]\n",
            "[100, 2, (10, 20, 30, 40), 4, 5, 6, 7, 8, 9]\n",
            "(100, 2, (10, 20, 30, 40), 4, 5, 6, 7, 8, 9)\n",
            "(10, 20, 30, 40)\n"
          ]
        }
      ]
    },
    {
      "cell_type": "code",
      "source": [
        "tp1 = (1,2,3,4,5,6,7,8,9)\n",
        "tp2=('a','b','c','d','e','f')\n",
        "tp3=zip(tp1,tp2)\n",
        "print(tp3)\n",
        "print(list(tp3))"
      ],
      "metadata": {
        "colab": {
          "base_uri": "https://localhost:8080/"
        },
        "id": "qfDLEVnjU1P6",
        "outputId": "16fd5ceb-a08a-465e-9f70-52b599ffdaa3"
      },
      "execution_count": 50,
      "outputs": [
        {
          "output_type": "stream",
          "name": "stdout",
          "text": [
            "<zip object at 0x7ac5849dd140>\n",
            "[(1, 'a'), (2, 'b'), (3, 'c'), (4, 'd'), (5, 'e'), (6, 'f')]\n"
          ]
        }
      ]
    },
    {
      "cell_type": "code",
      "source": [
        "tup=('c','o','a','c','h','x')\n",
        "str1=str(tup)\n",
        "print(str1)\n",
        "print(type(str1))\n",
        "str2=''.join(tup)\n",
        "print(str2)"
      ],
      "metadata": {
        "colab": {
          "base_uri": "https://localhost:8080/"
        },
        "id": "AjEIAqN_ZFUa",
        "outputId": "c278b645-bc98-4537-d4b7-87b323aa458d"
      },
      "execution_count": 54,
      "outputs": [
        {
          "output_type": "stream",
          "name": "stdout",
          "text": [
            "('c', 'o', 'a', 'c', 'h', 'x')\n",
            "<class 'str'>\n",
            "coachx\n"
          ]
        }
      ]
    },
    {
      "cell_type": "code",
      "source": [
        "tup=('c','o','a','c','h','x')\n",
        "str01=''\n",
        "for i in tup:\n",
        "  str01 += i\n",
        "print(str01)"
      ],
      "metadata": {
        "colab": {
          "base_uri": "https://localhost:8080/"
        },
        "id": "WTa1VW6KazQi",
        "outputId": "c3511b18-9c8b-4f35-90e9-e43899105a24"
      },
      "execution_count": 2,
      "outputs": [
        {
          "output_type": "stream",
          "name": "stdout",
          "text": [
            "coachx\n"
          ]
        }
      ]
    },
    {
      "cell_type": "code",
      "source": [
        "dict1={1:\"ashwini\",2:[1,2,3,4,5],3:['a','b','c','d','e'],\"pincode\":345678,\"location\":\"pune\"}\n",
        "print(dict1)\n",
        "print(dict1['location'])\n",
        "#print(dict1['Location'])"
      ],
      "metadata": {
        "colab": {
          "base_uri": "https://localhost:8080/",
          "height": 211
        },
        "id": "lmUvMBsh7Xwk",
        "outputId": "8148c19d-5c57-481b-c000-bd3db0cd26a3"
      },
      "execution_count": 5,
      "outputs": [
        {
          "output_type": "stream",
          "name": "stdout",
          "text": [
            "{1: 'ashwini', 2: [1, 2, 3, 4, 5], 3: ['a', 'b', 'c', 'd', 'e'], 'pincode': 345678, 'location': 'pune'}\n",
            "pune\n"
          ]
        },
        {
          "output_type": "error",
          "ename": "KeyError",
          "evalue": "'Location'",
          "traceback": [
            "\u001b[0;31m---------------------------------------------------------------------------\u001b[0m",
            "\u001b[0;31mKeyError\u001b[0m                                  Traceback (most recent call last)",
            "\u001b[0;32m<ipython-input-5-cd3ce93b3de1>\u001b[0m in \u001b[0;36m<cell line: 4>\u001b[0;34m()\u001b[0m\n\u001b[1;32m      2\u001b[0m \u001b[0mprint\u001b[0m\u001b[0;34m(\u001b[0m\u001b[0mdict1\u001b[0m\u001b[0;34m)\u001b[0m\u001b[0;34m\u001b[0m\u001b[0;34m\u001b[0m\u001b[0m\n\u001b[1;32m      3\u001b[0m \u001b[0mprint\u001b[0m\u001b[0;34m(\u001b[0m\u001b[0mdict1\u001b[0m\u001b[0;34m[\u001b[0m\u001b[0;34m'location'\u001b[0m\u001b[0;34m]\u001b[0m\u001b[0;34m)\u001b[0m\u001b[0;34m\u001b[0m\u001b[0;34m\u001b[0m\u001b[0m\n\u001b[0;32m----> 4\u001b[0;31m \u001b[0mprint\u001b[0m\u001b[0;34m(\u001b[0m\u001b[0mdict1\u001b[0m\u001b[0;34m[\u001b[0m\u001b[0;34m'Location'\u001b[0m\u001b[0;34m]\u001b[0m\u001b[0;34m)\u001b[0m\u001b[0;34m\u001b[0m\u001b[0;34m\u001b[0m\u001b[0m\n\u001b[0m",
            "\u001b[0;31mKeyError\u001b[0m: 'Location'"
          ]
        }
      ]
    },
    {
      "cell_type": "code",
      "source": [
        "d1 = {1:\"ashwini\",2:[1,2,3,4,5],3:['a','b','c','d','e'],\"pincode\":345678,\"location\":\"pune\"}\n",
        "doc2 = list(d1.keys())\n",
        "print(doc2)\n",
        "for key in d1:\n",
        "  print(key)\n",
        "\n",
        "\n",
        "print(\"access of key\",d1[3])\n"
      ],
      "metadata": {
        "colab": {
          "base_uri": "https://localhost:8080/"
        },
        "id": "h1ewUz0G9sBA",
        "outputId": "03f3c5d7-59b0-4c44-a9ed-e11f5196b5d7"
      },
      "execution_count": 5,
      "outputs": [
        {
          "output_type": "stream",
          "name": "stdout",
          "text": [
            "[1, 2, 3, 'pincode', 'location']\n",
            "1\n",
            "2\n",
            "3\n",
            "pincode\n",
            "location\n",
            "access of key ['a', 'b', 'c', 'd', 'e']\n"
          ]
        }
      ]
    },
    {
      "cell_type": "code",
      "source": [
        "specific_key='pincode'\n",
        "print(specific_key)"
      ],
      "metadata": {
        "colab": {
          "base_uri": "https://localhost:8080/"
        },
        "id": "64gOwkt2kdU9",
        "outputId": "f228293c-b1a2-41b9-8e15-5c6f16ad52c3"
      },
      "execution_count": 1,
      "outputs": [
        {
          "output_type": "stream",
          "name": "stdout",
          "text": [
            "pincode\n"
          ]
        }
      ]
    },
    {
      "cell_type": "code",
      "source": [
        "d12 = {\n",
        "    \"id\" : \"f6w7-q2d2\",\n",
        "    \"name\" : \"Electric Vehicle Population Data\",\n",
        "    \"assetType\" : \"dataset\",\n",
        "    \"attribution\" : \"Washington State Department of Licensing\",\n",
        "    \"averageRating\" : 0,\n",
        "    \"category\" : \"Transportation\"\n",
        "\n",
        "}\n",
        "d12.get(\"name\")"
      ],
      "metadata": {
        "colab": {
          "base_uri": "https://localhost:8080/",
          "height": 36
        },
        "id": "aKpxu9xBnPvM",
        "outputId": "8ddbc524-0294-4c28-8861-2628d9b21384"
      },
      "execution_count": 6,
      "outputs": [
        {
          "output_type": "execute_result",
          "data": {
            "text/plain": [
              "'Electric Vehicle Population Data'"
            ],
            "application/vnd.google.colaboratory.intrinsic+json": {
              "type": "string"
            }
          },
          "metadata": {},
          "execution_count": 6
        }
      ]
    },
    {
      "cell_type": "code",
      "source": [
        "sq = {1:1, 5:4 , 8:9 , 3:16, 5:25 }\n",
        "print(sq)\n",
        "#print(sq.popitem())\n",
        "print(sq)\n",
        "print(sq.pop(8))\n",
        "print(sq)"
      ],
      "metadata": {
        "colab": {
          "base_uri": "https://localhost:8080/"
        },
        "id": "JJQLJVs4ocPk",
        "outputId": "d7f632d4-a322-4df0-a45f-a435aa0f7a93"
      },
      "execution_count": 15,
      "outputs": [
        {
          "output_type": "stream",
          "name": "stdout",
          "text": [
            "{1: 1, 5: 25, 8: 9, 3: 16}\n",
            "{1: 1, 5: 25, 8: 9, 3: 16}\n",
            "9\n",
            "{1: 1, 5: 25, 3: 16}\n"
          ]
        }
      ]
    },
    {
      "cell_type": "code",
      "source": [
        "d1 = {\n",
        "    \"id\" : \"f6w7-q2d2\",\n",
        "    \"name\" : \"Electric Vehicle Population Data\",\n",
        "    \"assetType\" : \"dataset\",\n",
        "    \"attribution\" : \"Washington State Department of Licensing\",\n",
        "    \"averageRating\" : 0,\n",
        "    \"category\" : \"Transportation\"\n",
        "\n",
        "\n",
        "}\n",
        "d1[\"name\"]=\"petrol vehicle\"\n",
        "print(d1)\n",
        "print(d1[\"name\"])\n",
        "d1['adress']='pune'\n",
        "d1['empty']=' '\n",
        "print(d1)\n",
        "for key in d1:\n",
        " print(key)\n",
        "\n",
        "print(d1)"
      ],
      "metadata": {
        "colab": {
          "base_uri": "https://localhost:8080/"
        },
        "id": "uGyzTGPOrDsT",
        "outputId": "0627e0e4-2fbe-42f9-ab4b-d1c3c17ba810"
      },
      "execution_count": 19,
      "outputs": [
        {
          "output_type": "stream",
          "name": "stdout",
          "text": [
            "{'id': 'f6w7-q2d2', 'name': 'petrol vehicle', 'assetType': 'dataset', 'attribution': 'Washington State Department of Licensing', 'averageRating': 0, 'category': 'Transportation'}\n",
            "petrol vehicle\n",
            "{'id': 'f6w7-q2d2', 'name': 'petrol vehicle', 'assetType': 'dataset', 'attribution': 'Washington State Department of Licensing', 'averageRating': 0, 'category': 'Transportation', 'adress': 'pune', 'empty': ' '}\n",
            "id\n",
            "name\n",
            "assetType\n",
            "attribution\n",
            "averageRating\n",
            "category\n",
            "adress\n",
            "empty\n",
            "{'id': 'f6w7-q2d2', 'name': 'petrol vehicle', 'assetType': 'dataset', 'attribution': 'Washington State Department of Licensing', 'averageRating': 0, 'category': 'Transportation', 'adress': 'pune', 'empty': ' '}\n"
          ]
        }
      ]
    },
    {
      "cell_type": "code",
      "source": [
        "data = {\n",
        "    \"id\" : \"f6w7-q2d2\",\n",
        "    \"name\" : \"Electric Vehicle Population Data\",\n",
        "    \"assetType\" : \"dataset\",\n",
        "    \"attribution\" : \"Washington State Department of Licensing\",\n",
        "    \"averageRating\" : 0,\n",
        "    \"category\" : \"Transportation\"\n",
        "\n",
        "\n",
        "}\n",
        "print(data)\n",
        "for i in data:\n",
        "  print(i,  data[i])\n",
        "\n",
        "\n",
        "print((\"-\")*10)\n",
        "\n",
        "for key, value in data.items():\n",
        "    print(f\"{key}:\\\"{value}\\\"\")"
      ],
      "metadata": {
        "colab": {
          "base_uri": "https://localhost:8080/"
        },
        "id": "l7rvhBBotx8z",
        "outputId": "ff0563ae-05f0-4796-fa91-97b4cb28e45c"
      },
      "execution_count": 25,
      "outputs": [
        {
          "output_type": "stream",
          "name": "stdout",
          "text": [
            "{'id': 'f6w7-q2d2', 'name': 'Electric Vehicle Population Data', 'assetType': 'dataset', 'attribution': 'Washington State Department of Licensing', 'averageRating': 0, 'category': 'Transportation'}\n",
            "id f6w7-q2d2\n",
            "name Electric Vehicle Population Data\n",
            "assetType dataset\n",
            "attribution Washington State Department of Licensing\n",
            "averageRating 0\n",
            "category Transportation\n",
            "----------\n",
            "id:\"f6w7-q2d2\"\n",
            "name:\"Electric Vehicle Population Data\"\n",
            "assetType:\"dataset\"\n",
            "attribution:\"Washington State Department of Licensing\"\n",
            "averageRating:\"0\"\n",
            "category:\"Transportation\"\n"
          ]
        }
      ]
    },
    {
      "cell_type": "code",
      "source": [
        "data = {\n",
        "    \"id\" : \"f6w7-q2d2\",\n",
        "    \"name\" : \"Electric Vehicle Population Data\",\n",
        "    \"assetType\" : \"dataset\",\n",
        "    \"attribution\" : \"Washington State Department of Licensing\",\n",
        "    \"averageRating\" : 0,\n",
        "    \"category\" : \"Transportation\"\n",
        "\n",
        "\n",
        "}\n",
        "for i in data:\n",
        " print(i)\n",
        "\n",
        "specific_key='name'\n",
        "\n",
        "if specific_key in data:\n",
        "  value_of_specific_key=data[ specific_key]\n",
        "\n",
        "  print(f\"value of key '{specific_key}' : is {value_of_specific_key}\")\n",
        "else:\n",
        "    print(f\" key '{specific_key}' not found\")\n",
        "\n",
        "\n",
        "\n"
      ],
      "metadata": {
        "colab": {
          "base_uri": "https://localhost:8080/"
        },
        "id": "pkObSc6BM17f",
        "outputId": "a00b3e35-bc33-48bb-b1fd-f15cadf2b0b9"
      },
      "execution_count": 4,
      "outputs": [
        {
          "output_type": "stream",
          "name": "stdout",
          "text": [
            "id\n",
            "name\n",
            "assetType\n",
            "attribution\n",
            "averageRating\n",
            "category\n",
            "value of key 'name' : is Electric Vehicle Population Data\n"
          ]
        }
      ]
    },
    {
      "cell_type": "code",
      "source": [
        "print('name' in data)\n",
        "specific_key='name'\n",
        "\n",
        "if specific_key is not None:\n",
        "  value_of_specific_key=data.get(specific_key)\n",
        "\n",
        "  print(f\"value of key '{specific_key}' : is {value_of_specific_key}\")\n",
        "else:\n",
        "    print(f\" key '{specific_key}' not found\")\n",
        "\n",
        "print(data.values())"
      ],
      "metadata": {
        "colab": {
          "base_uri": "https://localhost:8080/"
        },
        "id": "P3jOl8x0R2KN",
        "outputId": "829ce795-7cf5-4a3d-cde2-7cf99e5d822e"
      },
      "execution_count": 7,
      "outputs": [
        {
          "output_type": "stream",
          "name": "stdout",
          "text": [
            "True\n",
            "value of key 'name' : is Electric Vehicle Population Data\n",
            "dict_values(['f6w7-q2d2', 'Electric Vehicle Population Data', 'dataset', 'Washington State Department of Licensing', 0, 'Transportation'])\n"
          ]
        }
      ]
    }
  ]
}