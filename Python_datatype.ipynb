{
  "nbformat": 4,
  "nbformat_minor": 0,
  "metadata": {
    "colab": {
      "provenance": [],
      "toc_visible": true,
      "authorship_tag": "ABX9TyPyWniuUsWKzVTlfKkofPnW",
      "include_colab_link": true
    },
    "kernelspec": {
      "name": "python3",
      "display_name": "Python 3"
    },
    "language_info": {
      "name": "python"
    }
  },
  "cells": [
    {
      "cell_type": "markdown",
      "metadata": {
        "id": "view-in-github",
        "colab_type": "text"
      },
      "source": [
        "<a href=\"https://colab.research.google.com/github/Ashwini0187/AshwiniChoudhary/blob/main/Python_datatype.ipynb\" target=\"_parent\"><img src=\"https://colab.research.google.com/assets/colab-badge.svg\" alt=\"Open In Colab\"/></a>"
      ]
    },
    {
      "cell_type": "code",
      "execution_count": null,
      "metadata": {
        "id": "cgUDOClD7vph"
      },
      "outputs": [],
      "source": []
    },
    {
      "cell_type": "code",
      "source": [
        "# Basics of python\n",
        "\"\"\"\n",
        "this is multiple line comment\n",
        "\n",
        "\"\"\""
      ],
      "metadata": {
        "colab": {
          "base_uri": "https://localhost:8080/",
          "height": 36
        },
        "id": "Lw8sFJrZ8Sw0",
        "outputId": "3fba97cc-f875-4ad0-826f-ee16d21cf382"
      },
      "execution_count": 1,
      "outputs": [
        {
          "output_type": "execute_result",
          "data": {
            "text/plain": [
              "'\\nthis is multiple line comment \\n\\n'"
            ],
            "application/vnd.google.colaboratory.intrinsic+json": {
              "type": "string"
            }
          },
          "metadata": {},
          "execution_count": 1
        }
      ]
    },
    {
      "cell_type": "markdown",
      "source": [
        "# New Section"
      ],
      "metadata": {
        "id": "BhEuRgca8JWS"
      }
    },
    {
      "cell_type": "code",
      "source": [
        "print(a)"
      ],
      "metadata": {
        "colab": {
          "base_uri": "https://localhost:8080/"
        },
        "id": "cgQiF9ISDi4t",
        "outputId": "bd462a5f-d8b3-4046-dbb8-eff8c46a9ac0"
      },
      "execution_count": 4,
      "outputs": [
        {
          "output_type": "stream",
          "name": "stdout",
          "text": [
            "76\n"
          ]
        }
      ]
    },
    {
      "cell_type": "markdown",
      "source": [],
      "metadata": {
        "id": "Jc1EoLPUDiVz"
      }
    },
    {
      "cell_type": "code",
      "source": [
        "a=76\n",
        "b=56"
      ],
      "metadata": {
        "id": "v_iMKjmLDcfD"
      },
      "execution_count": 2,
      "outputs": []
    },
    {
      "cell_type": "code",
      "source": [
        "print(type(a))"
      ],
      "metadata": {
        "id": "mgRvlhm6D0F8"
      },
      "execution_count": null,
      "outputs": []
    },
    {
      "cell_type": "code",
      "source": [
        "print(72e4)\n",
        "print(72e-3)"
      ],
      "metadata": {
        "id": "CLM4_TWkGZWD"
      },
      "execution_count": null,
      "outputs": []
    },
    {
      "cell_type": "code",
      "source": [
        "a=2+3j\n",
        "print(a)\n",
        "print(a.real)\n",
        "print(a.imag)\n",
        "print(a.conjugate)\n",
        "b=5j\n",
        "print(b)"
      ],
      "metadata": {
        "colab": {
          "base_uri": "https://localhost:8080/"
        },
        "id": "cH5A9T6YHOMG",
        "outputId": "8feaafc0-c170-4e9e-b71f-e3ac41021de9"
      },
      "execution_count": 12,
      "outputs": [
        {
          "output_type": "stream",
          "name": "stdout",
          "text": [
            "(2+3j)\n",
            "2.0\n",
            "3.0\n",
            "<built-in method conjugate of complex object at 0x7ed907e1b4d0>\n",
            "5j\n"
          ]
        }
      ]
    },
    {
      "cell_type": "code",
      "source": [
        "s1=\"hello\"\n",
        "s2='hello'\n",
        "print(s2)\n",
        "print(s1)\n",
        "print(type(s1))\n",
        "print(type(s2))"
      ],
      "metadata": {
        "colab": {
          "base_uri": "https://localhost:8080/"
        },
        "id": "_S_4n2BEJLW4",
        "outputId": "3cfcf717-4c6b-429f-ac72-db9ca2b10036"
      },
      "execution_count": 18,
      "outputs": [
        {
          "output_type": "stream",
          "name": "stdout",
          "text": [
            "hello\n",
            "hello\n",
            "<class 'str'>\n",
            "<class 'str'>\n"
          ]
        }
      ]
    },
    {
      "cell_type": "code",
      "source": [
        "name='ashwini'\n",
        "age=24\n",
        "print(\"my name is\", name,\"my age is\",age)\n",
        "print(type(name))\n",
        "print(type(age))\n"
      ],
      "metadata": {
        "colab": {
          "base_uri": "https://localhost:8080/"
        },
        "id": "4e8CIs1lMx8K",
        "outputId": "b1b8a860-3da4-4738-e81e-25c5dbccdf77"
      },
      "execution_count": 17,
      "outputs": [
        {
          "output_type": "stream",
          "name": "stdout",
          "text": [
            "my name is ashwini my age is 24\n",
            "<class 'str'>\n",
            "<class 'int'>\n"
          ]
        }
      ]
    },
    {
      "cell_type": "code",
      "source": [
        "#list[] (list data type)---orderd collection of items--list is mutable\n",
        "ganesh_eid=456\n",
        "piyush_eid=756\n",
        "priyanka_eid=567\n",
        "emp_id_tata=[1,2,3,4,5,6,7,8,9,10]\n",
        "emp_id_infosys=[11,12,13,14,15,16,17,18,19,20]\n",
        "emp_id_tesla=[100,200,300,400,500,600,700,800,900]\n",
        "emp_id_tata_infosis_tesla=[[1,2,3,4,5,6,7,8,9,10],[11,12,13,14,15,16,17,18,19,20],[100,200,300,400,500,600,700,800,900]]\n",
        "\n",
        "print(\"the empid for tata companies--\",emp_id_tata)\n",
        "print(type(emp_id_tata))"
      ],
      "metadata": {
        "colab": {
          "base_uri": "https://localhost:8080/"
        },
        "id": "pnynZ1_Ia3jd",
        "outputId": "4246eac8-86c4-4730-a0da-9ccd29739a69"
      },
      "execution_count": 23,
      "outputs": [
        {
          "output_type": "stream",
          "name": "stdout",
          "text": [
            "the empid for tata companies-- [1, 2, 3, 4, 5, 6, 7, 8, 9, 10]\n",
            "<class 'list'>\n"
          ]
        }
      ]
    },
    {
      "cell_type": "code",
      "source": [
        "#tupledata() type (it is a ordered sequence of datatype)---tuple is immutable\n",
        "tuple_items=(1,2,3,4,5,6,7,8,9,10)\n",
        "print(tuple_items)\n",
        "print(type(tuple_items))"
      ],
      "metadata": {
        "colab": {
          "base_uri": "https://localhost:8080/"
        },
        "id": "U1o4zma6d4mI",
        "outputId": "9e92feb1-4790-41b9-baf0-be9560842cb7"
      },
      "execution_count": 24,
      "outputs": [
        {
          "output_type": "stream",
          "name": "stdout",
          "text": [
            "(1, 2, 3, 4, 5, 6, 7, 8, 9, 10)\n",
            "<class 'tuple'>\n"
          ]
        }
      ]
    },
    {
      "cell_type": "code",
      "source": [
        "#dictionary{}(dict datatype)\n",
        "#it is an unordered collection of key value paires\n",
        "dictionary={\"name\":\"hitesh\",\"age\":24}\n",
        "print(dictionary)\n",
        "print(type(dictionary))"
      ],
      "metadata": {
        "colab": {
          "base_uri": "https://localhost:8080/"
        },
        "id": "hBxNtAv9g0ka",
        "outputId": "1fbe4f35-980f-4904-b84e-dff62144853c"
      },
      "execution_count": 25,
      "outputs": [
        {
          "output_type": "stream",
          "name": "stdout",
          "text": [
            "{'name': 'hitesh', 'age': 24}\n",
            "<class 'dict'>\n"
          ]
        }
      ]
    },
    {
      "cell_type": "code",
      "source": [
        "#unordered collection of items\n",
        "#every(element/values/items/datas),it must be unique in side the set\n",
        "sets={1,2,3,4,5,6,6,6,6,6,5,5,5,4,3,2}\n",
        "list=[1,2,3,4,5,6,6,6,6,6,5,5,5,4,3,2]\n",
        "days={\"sun\",\"mon\",\"tus\",\"wed\",\"thurs\",\"fri\",\"set\"}\n",
        "print(days)\n",
        "print(type(sets))\n",
        "print(sets)\n",
        "print(list)\n"
      ],
      "metadata": {
        "colab": {
          "base_uri": "https://localhost:8080/"
        },
        "id": "riaEOnKWkWKL",
        "outputId": "30dd0da6-fd06-4011-e421-99aef9d647ee"
      },
      "execution_count": 29,
      "outputs": [
        {
          "output_type": "stream",
          "name": "stdout",
          "text": [
            "{'fri', 'sun', 'thurs', 'set', 'wed', 'tus', 'mon'}\n",
            "<class 'set'>\n",
            "{1, 2, 3, 4, 5, 6}\n",
            "[1, 2, 3, 4, 5, 6, 6, 6, 6, 6, 5, 5, 5, 4, 3, 2]\n"
          ]
        }
      ]
    },
    {
      "cell_type": "code",
      "source": [],
      "metadata": {
        "id": "HfglcEhhlMJZ"
      },
      "execution_count": null,
      "outputs": []
    }
  ]
}