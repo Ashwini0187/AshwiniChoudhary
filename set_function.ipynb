{
  "nbformat": 4,
  "nbformat_minor": 0,
  "metadata": {
    "colab": {
      "provenance": [],
      "authorship_tag": "ABX9TyNZiiKFBA6+9Mkh2hIgD3F8",
      "include_colab_link": true
    },
    "kernelspec": {
      "name": "python3",
      "display_name": "Python 3"
    },
    "language_info": {
      "name": "python"
    }
  },
  "cells": [
    {
      "cell_type": "markdown",
      "metadata": {
        "id": "view-in-github",
        "colab_type": "text"
      },
      "source": [
        "<a href=\"https://colab.research.google.com/github/Ashwini0187/AshwiniChoudhary/blob/main/set_function.ipynb\" target=\"_parent\"><img src=\"https://colab.research.google.com/assets/colab-badge.svg\" alt=\"Open In Colab\"/></a>"
      ]
    },
    {
      "cell_type": "code",
      "execution_count": 4,
      "metadata": {
        "colab": {
          "base_uri": "https://localhost:8080/"
        },
        "id": "2DTVpjY2fbJZ",
        "outputId": "bf96d386-a816-4a74-b9b3-c38784f4c65b"
      },
      "outputs": [
        {
          "output_type": "stream",
          "name": "stdout",
          "text": [
            "{'b', 'f', 'd', 'c', 'e', 'a'}\n",
            "{1, 2, 3, 4, 5, 6, 7, 8, 9, 10, 11, 12, 13, 14, 15, 16, 17, 18, 19, 20, 21, 22, 23, 24, 25, 26, 27, 28, 29, 30, 31, 32, 33, 34, 35, 36, 37, 38, 39, 40, 41, 42, 43, 44, 45, 46, 47, 48, 49, 50, 51, 52, 53, 54, 55, 56, 57, 58, 59, 60, 61, 62, 63, 64, 65, 66, 67, 68, 69, 70, 71, 72, 73, 74, 75, 76, 77, 78, 79, 80, 81, 82, 83, 84, 85, 86, 87, 88, 89, 90, 91, 92, 93, 94, 95, 96, 97, 98, 99}\n",
            "{1, 2, 3, 4, 5}\n"
          ]
        }
      ],
      "source": [
        "#set\n",
        "\n",
        "a1=set('abcdabcdefef')\n",
        "print(a1)\n",
        "a=set(range(1,100))\n",
        "print(a)\n",
        "b=set([1,2,3,4,5])\n",
        "print(b)"
      ]
    },
    {
      "cell_type": "code",
      "source": [
        "days=set([\"Mon\" , \"Tue\" , \"Wed\" , \"Thur\" , \"Fri\",\"Sat\" , \"Sun\"])\n",
        "print(days)\n",
        "for d in days:\n",
        "  print(d)\n",
        "\n",
        "  s={'a','b','c'}\n",
        "  print(s.discard('b'))"
      ],
      "metadata": {
        "colab": {
          "base_uri": "https://localhost:8080/"
        },
        "id": "hK9jKPbQhi7S",
        "outputId": "f1cd833c-7fbb-49b1-8283-45e12147fc45"
      },
      "execution_count": 7,
      "outputs": [
        {
          "output_type": "stream",
          "name": "stdout",
          "text": [
            "{'Thur', 'Sat', 'Fri', 'Tue', 'Sun', 'Mon', 'Wed'}\n",
            "Thur\n",
            "None\n",
            "Sat\n",
            "None\n",
            "Fri\n",
            "None\n",
            "Tue\n",
            "None\n",
            "Sun\n",
            "None\n",
            "Mon\n",
            "None\n",
            "Wed\n",
            "None\n"
          ]
        }
      ]
    },
    {
      "cell_type": "code",
      "source": [
        "  s={'a','b','c','d','e','f'}\n",
        "  print(s.discard('b'))\n",
        "  print(s)\n",
        "  print(s.remove('c'))\n",
        "  print(s)\n",
        "  print(s.pop())\n",
        "  print(s)\n",
        "  print(s.clear())\n",
        "  print(s)"
      ],
      "metadata": {
        "colab": {
          "base_uri": "https://localhost:8080/"
        },
        "id": "2R5O4bjojeCX",
        "outputId": "85ad408d-83cf-4c5e-a214-e51b99ce4701"
      },
      "execution_count": 14,
      "outputs": [
        {
          "output_type": "stream",
          "name": "stdout",
          "text": [
            "None\n",
            "{'d', 'c', 'e', 'f', 'a'}\n",
            "None\n",
            "{'d', 'e', 'f', 'a'}\n",
            "d\n",
            "{'e', 'f', 'a'}\n",
            "None\n",
            "set()\n"
          ]
        }
      ]
    },
    {
      "cell_type": "code",
      "source": [
        "s4 = {1,2,3,4,5}\n",
        "print(s4)\n",
        "s4.add(6)\n",
        "print(s4)"
      ],
      "metadata": {
        "colab": {
          "base_uri": "https://localhost:8080/"
        },
        "id": "zEP31zzNloDs",
        "outputId": "ef865e07-f1f4-43ab-8733-f6354fa4c68d"
      },
      "execution_count": 15,
      "outputs": [
        {
          "output_type": "stream",
          "name": "stdout",
          "text": [
            "{1, 2, 3, 4, 5}\n",
            "{1, 2, 3, 4, 5, 6}\n"
          ]
        }
      ]
    },
    {
      "cell_type": "code",
      "source": [
        "s5 = {1,2,3 ,3,3}\n",
        "s6 = {'a', 'b', 'c','a' ,'b'}\n",
        "\n",
        "s5.update(s6)\n",
        "print(s5)\n",
        "s5.update({3,4})\n",
        "print(s5)"
      ],
      "metadata": {
        "colab": {
          "base_uri": "https://localhost:8080/"
        },
        "id": "gtxvGG6ml7OE",
        "outputId": "8b0166c7-2d38-4e3c-9d6e-f3f935915d0a"
      },
      "execution_count": 17,
      "outputs": [
        {
          "output_type": "stream",
          "name": "stdout",
          "text": [
            "{1, 2, 3, 'b', 'c', 'a'}\n",
            "{1, 2, 3, 4, 'b', 'c', 'a'}\n"
          ]
        }
      ]
    },
    {
      "cell_type": "code",
      "source": [
        "#Union of the sets:-\n",
        "A = {1,2,4,6,8}\n",
        "B = {1,2,3,4,5}\n",
        "c=A|b\n",
        "print(c)\n",
        "print(\"Union of the sets\",A.union(b))"
      ],
      "metadata": {
        "colab": {
          "base_uri": "https://localhost:8080/"
        },
        "id": "1UCeL0F_oBsj",
        "outputId": "a5ca821b-507f-4352-b023-9de58cd818c4"
      },
      "execution_count": 25,
      "outputs": [
        {
          "output_type": "stream",
          "name": "stdout",
          "text": [
            "{1, 2, 3, 4, 5, 6, 8}\n",
            "Union of the sets {1, 2, 3, 4, 5, 6, 8}\n"
          ]
        }
      ]
    },
    {
      "cell_type": "code",
      "source": [
        "days_A = set([\"Mon\", \"Tue\", \"Wed\"])\n",
        "days_B = set([\"Wed\", \"Thur\", \"Fri\", \"Sat\", \"Sun\"])\n",
        "all_days = days_A & days_B\n",
        "print(all_days)\n",
        "\n",
        "print(\"Intersection of the sets\", days_A.intersection(days_B))"
      ],
      "metadata": {
        "colab": {
          "base_uri": "https://localhost:8080/"
        },
        "id": "eeC84R65oxkG",
        "outputId": "f7c05fbc-8dfe-49a0-99c4-dda736a86c7e"
      },
      "execution_count": 26,
      "outputs": [
        {
          "output_type": "stream",
          "name": "stdout",
          "text": [
            "{'Wed'}\n",
            "Intersection of the sets {'Wed'}\n"
          ]
        }
      ]
    },
    {
      "cell_type": "code",
      "source": [
        "S1 = {1,2,3,4,6,8}\n",
        "S2 = {1,2,3,4,5}\n",
        "S3 = S1-S2\n",
        "print(S3)\n",
        "print(\"Difference of the sets:\",S1.difference(S2))"
      ],
      "metadata": {
        "colab": {
          "base_uri": "https://localhost:8080/"
        },
        "id": "Ow7nFpn2psS2",
        "outputId": "c463b285-bbd6-4371-8aa6-5bacda602ca2"
      },
      "execution_count": 28,
      "outputs": [
        {
          "output_type": "stream",
          "name": "stdout",
          "text": [
            "{8, 6}\n",
            "Difference of the sets: {8, 6}\n"
          ]
        }
      ]
    },
    {
      "cell_type": "code",
      "source": [
        "#Comparison of the set:-\n",
        "DaysA = set([\"Mon\", \"Tue\",\"Wed\"])\n",
        "DaysB = set([\"Mon\", \"Tue\", \"Wed\", \"Thu\", \"Fri\",\"Sat\", \"Sun\"])\n",
        "\n",
        "DaSubsetres=DaysA<=DaysB\n",
        "supersetres=DaysB>=DaysA\n",
        "\n",
        "print(DaSubsetres)\n",
        "print(supersetres)\n"
      ],
      "metadata": {
        "colab": {
          "base_uri": "https://localhost:8080/"
        },
        "id": "Uu4j_hgw3gmw",
        "outputId": "5562479a-0f54-4fca-eaea-f8661ad68133"
      },
      "execution_count": 23,
      "outputs": [
        {
          "output_type": "stream",
          "name": "stdout",
          "text": [
            "True\n",
            "True\n"
          ]
        }
      ]
    },
    {
      "cell_type": "code",
      "source": [
        "A = {1,2,4,6,8}\n",
        "B = {1,2,3,4,5}\n",
        "c=A^B\n",
        "print(c)\n",
        "print(\"Symmetric Difference of the sets:\",A.symmetric_difference(B))"
      ],
      "metadata": {
        "colab": {
          "base_uri": "https://localhost:8080/"
        },
        "id": "1wkgl4Gr6Rcg",
        "outputId": "e3c35b23-ed46-47f1-e498-a65725af22a5"
      },
      "execution_count": 29,
      "outputs": [
        {
          "output_type": "stream",
          "name": "stdout",
          "text": [
            "{3, 5, 6, 8}\n",
            "Symmetric Difference of the sets: {3, 5, 6, 8}\n"
          ]
        }
      ]
    },
    {
      "cell_type": "code",
      "source": [
        "s1 = {\"red\", \"green\", \"blue\"}\n",
        "s2 = {\"blue\", \"yellow\", \"red\", \"green\", \"black\"}\n",
        "\n",
        "#subset\n",
        "\n",
        "print(s1.issubset(s2))\n",
        "\n",
        "#superset\n",
        "\n",
        "print(s1.issuperset(s2))\n",
        "\n",
        "\n",
        "print(s2.issuperset(s1))\n",
        "\n",
        "\n",
        "#disjoint set\n",
        "\n",
        "print(s1.isdisjoint(s2))"
      ],
      "metadata": {
        "colab": {
          "base_uri": "https://localhost:8080/"
        },
        "id": "xMJ720V98u0h",
        "outputId": "b7cbd8c0-d893-4e34-9a91-1c9bd6864e2c"
      },
      "execution_count": 30,
      "outputs": [
        {
          "output_type": "stream",
          "name": "stdout",
          "text": [
            "True\n",
            "False\n",
            "True\n",
            "False\n"
          ]
        }
      ]
    },
    {
      "cell_type": "code",
      "source": [
        "def my_function():\n",
        "  print(\"hello from a function\")\n",
        "\n",
        "my_function()"
      ],
      "metadata": {
        "colab": {
          "base_uri": "https://localhost:8080/"
        },
        "id": "29xnwr7qAXw2",
        "outputId": "a5f507ca-8b34-450b-e6e2-9d8c169f0d6b"
      },
      "execution_count": 33,
      "outputs": [
        {
          "output_type": "stream",
          "name": "stdout",
          "text": [
            "hello from a function\n"
          ]
        }
      ]
    },
    {
      "cell_type": "code",
      "source": [
        "def my_function(name):\n",
        "  print(\"hello\"+name)\n",
        "\n",
        "my_function(\" ashwini\")\n",
        "my_function(\" Rekha\")\n",
        "my_function(\" vinita\")"
      ],
      "metadata": {
        "colab": {
          "base_uri": "https://localhost:8080/"
        },
        "id": "Z_FzhDIfAXXt",
        "outputId": "65a53faa-d726-4db1-fc3a-0a3d313a2f11"
      },
      "execution_count": 37,
      "outputs": [
        {
          "output_type": "stream",
          "name": "stdout",
          "text": [
            "hello ashwini\n",
            "hello Rekha\n",
            "hello vinita\n"
          ]
        }
      ]
    },
    {
      "cell_type": "code",
      "source": [
        "def avg_function(x10 , y10):\n",
        "  print(\"avg of \", x10, \"and\", y10, \"is :\", (x10+y10)/2)\n",
        "\n",
        "avg_function(3,4)\n"
      ],
      "metadata": {
        "colab": {
          "base_uri": "https://localhost:8080/"
        },
        "id": "DJ3t62rSBYgj",
        "outputId": "463f8178-1137-4d5a-f7fe-1ecb27250148"
      },
      "execution_count": 4,
      "outputs": [
        {
          "output_type": "stream",
          "name": "stdout",
          "text": [
            "avg of  3 and 4 is : 3.5\n"
          ]
        }
      ]
    },
    {
      "cell_type": "code",
      "source": [
        "#Program to find the largest among three numbers with the help of function-\n",
        "x=int(input(\"enter number\"))\n",
        "y=int(input(\"enter number\"))\n",
        "z=int(input(\"enter number\"))\n",
        "\n",
        "def max_of_three(x, y, z):\n",
        " if(x>=y) and (x>=z):\n",
        "  largest=x\n",
        " elif(y>=x) and (y>=z):\n",
        "  largest=y\n",
        " else:\n",
        "  largest=z\n",
        "  return(largest)\n",
        "\n",
        "print(\"the largest number is\",max_of_three(x, y, z))\n",
        "\n"
      ],
      "metadata": {
        "colab": {
          "base_uri": "https://localhost:8080/"
        },
        "id": "8-z4qbHeDbmC",
        "outputId": "d12d5f8b-5a7b-48df-cfa0-d0330dc764f0"
      },
      "execution_count": 8,
      "outputs": [
        {
          "output_type": "stream",
          "name": "stdout",
          "text": [
            "enter number2\n",
            "enter number3\n",
            "enter number4\n",
            "the largest number is 4\n"
          ]
        }
      ]
    },
    {
      "cell_type": "code",
      "source": [
        "x='pqrs'\n",
        "\n",
        "def lower_to_upper():\n",
        "  print(x.upper())\n",
        "\n",
        "lower_to_upper()\n"
      ],
      "metadata": {
        "colab": {
          "base_uri": "https://localhost:8080/"
        },
        "id": "v2iD7GNeFqlQ",
        "outputId": "74194bc1-e61d-4794-e71b-1d53570831dd"
      },
      "execution_count": 11,
      "outputs": [
        {
          "output_type": "stream",
          "name": "stdout",
          "text": [
            "PQRS\n"
          ]
        }
      ]
    },
    {
      "cell_type": "code",
      "source": [
        "# Type-Conversion Functions:--\n",
        "\n",
        "#Implicit-Type Conversion:-\n",
        "\n",
        "val1 = 10\n",
        "val2 = 10.5\n",
        "sum = val1 + val2\n",
        "print(sum)\n",
        "\n",
        "print(type(val1))\n",
        "print(type(sum))\n",
        "print(int(sum))\n",
        "print(type(sum))\n",
        "print(str(sum))\n",
        "print(type(sum))\n",
        "\n",
        "\n",
        "a=\"101010\"\n",
        "c=int(a)\n",
        "print(c)\n",
        "print(type(c))"
      ],
      "metadata": {
        "colab": {
          "base_uri": "https://localhost:8080/"
        },
        "id": "pZZ76LdXGiRC",
        "outputId": "2f9e994b-da52-450b-8569-5b1ac4c09eae"
      },
      "execution_count": 17,
      "outputs": [
        {
          "output_type": "stream",
          "name": "stdout",
          "text": [
            "20.5\n",
            "<class 'int'>\n",
            "<class 'float'>\n",
            "20\n",
            "<class 'float'>\n",
            "20.5\n",
            "<class 'float'>\n",
            "101010\n",
            "<class 'int'>\n"
          ]
        }
      ]
    },
    {
      "cell_type": "code",
      "source": [
        "import math as m\n",
        "print(math.floor(2.3))\n",
        "\n",
        "print(math.cos(3))\n",
        "print(math.cos(30))\n",
        "print(m.sin(4))\n",
        "print(m.factorial(5))\n"
      ],
      "metadata": {
        "colab": {
          "base_uri": "https://localhost:8080/"
        },
        "id": "W4yCmgjsKjaZ",
        "outputId": "d222534c-61c3-43b4-fcf7-2206944f44ad"
      },
      "execution_count": 22,
      "outputs": [
        {
          "output_type": "stream",
          "name": "stdout",
          "text": [
            "2\n",
            "-0.9899924966004454\n",
            "0.15425144988758405\n",
            "-0.7568024953079282\n",
            "120\n"
          ]
        }
      ]
    },
    {
      "cell_type": "code",
      "source": [
        "def key_word_args(str):\n",
        "  print(str)\n",
        "  return\n",
        "\n",
        "\n",
        "key_word_args(str='hello python')\n",
        "key_word_args(str='lello python')\n",
        "key_word_args(str='zello python')"
      ],
      "metadata": {
        "id": "ucEVeE9YXEFn"
      },
      "execution_count": 29,
      "outputs": []
    },
    {
      "cell_type": "code",
      "source": [
        "def default_arg(name, age=25):\n",
        "  print(\"name:\", name)\n",
        "  print(\"age\", age)\n",
        "  return\n",
        "\n",
        "default_arg(age=24, name=\"hitesh\")\n",
        "default_arg(name=\"ashwini\")\n",
        "default_arg(name=\"shweta\")"
      ],
      "metadata": {
        "colab": {
          "base_uri": "https://localhost:8080/"
        },
        "id": "YAxmdtzYYrl8",
        "outputId": "9ef749a6-3c3b-46a8-b927-584e29a81557"
      },
      "execution_count": 32,
      "outputs": [
        {
          "output_type": "stream",
          "name": "stdout",
          "text": [
            "name: hitesh\n",
            "age 24\n",
            "name: ashwini\n",
            "age 25\n",
            "name: shweta\n",
            "age 25\n"
          ]
        }
      ]
    },
    {
      "cell_type": "code",
      "source": [
        "def req_argument(str):\n",
        " print(str)\n",
        "\n",
        "req_argument()\n",
        "\n",
        "def req_argument(name):\n",
        "  print(\"name\",name)\n",
        "\n",
        "req_argument()"
      ],
      "metadata": {
        "colab": {
          "base_uri": "https://localhost:8080/",
          "height": 211
        },
        "id": "00vurkz4ajOO",
        "outputId": "716959a3-3c9e-4077-f0d8-ed30127bdbb8"
      },
      "execution_count": 47,
      "outputs": [
        {
          "output_type": "error",
          "ename": "TypeError",
          "evalue": "req_argument() missing 1 required positional argument: 'str'",
          "traceback": [
            "\u001b[0;31m---------------------------------------------------------------------------\u001b[0m",
            "\u001b[0;31mTypeError\u001b[0m                                 Traceback (most recent call last)",
            "\u001b[0;32m<ipython-input-47-c2800f918fa5>\u001b[0m in \u001b[0;36m<cell line: 4>\u001b[0;34m()\u001b[0m\n\u001b[1;32m      2\u001b[0m  \u001b[0mprint\u001b[0m\u001b[0;34m(\u001b[0m\u001b[0mstr\u001b[0m\u001b[0;34m)\u001b[0m\u001b[0;34m\u001b[0m\u001b[0;34m\u001b[0m\u001b[0m\n\u001b[1;32m      3\u001b[0m \u001b[0;34m\u001b[0m\u001b[0m\n\u001b[0;32m----> 4\u001b[0;31m \u001b[0mreq_argument\u001b[0m\u001b[0;34m(\u001b[0m\u001b[0;34m)\u001b[0m\u001b[0;34m\u001b[0m\u001b[0;34m\u001b[0m\u001b[0m\n\u001b[0m\u001b[1;32m      5\u001b[0m \u001b[0;34m\u001b[0m\u001b[0m\n\u001b[1;32m      6\u001b[0m \u001b[0;32mdef\u001b[0m \u001b[0mreq_argument\u001b[0m\u001b[0;34m(\u001b[0m\u001b[0mname\u001b[0m\u001b[0;34m)\u001b[0m\u001b[0;34m:\u001b[0m\u001b[0;34m\u001b[0m\u001b[0;34m\u001b[0m\u001b[0m\n",
            "\u001b[0;31mTypeError\u001b[0m: req_argument() missing 1 required positional argument: 'str'"
          ]
        }
      ]
    },
    {
      "cell_type": "code",
      "source": [
        "def var_len_arg(arg1, *val):\n",
        "  print(\"output is:\")\n",
        "  print(arg1)\n",
        "  for var in val:\n",
        "   print(var)\n",
        "\n",
        "var_len_arg(10)\n",
        "var_len_arg(10,20,30,40,50)\n",
        ""
      ],
      "metadata": {
        "colab": {
          "base_uri": "https://localhost:8080/"
        },
        "id": "N7g66YyXkeSu",
        "outputId": "01fe9b9f-ac77-4436-caf0-fd14bc9401ac"
      },
      "execution_count": 43,
      "outputs": [
        {
          "output_type": "stream",
          "name": "stdout",
          "text": [
            "output is:\n",
            "10\n",
            "output is:\n",
            "10\n",
            "20\n",
            "30\n",
            "40\n",
            "50\n"
          ]
        }
      ]
    },
    {
      "cell_type": "code",
      "source": [],
      "metadata": {
        "id": "vIzMAq2fkjAb"
      },
      "execution_count": null,
      "outputs": []
    }
  ]
}